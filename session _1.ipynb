{
 "cells": [
  {
   "cell_type": "code",
   "execution_count": 1,
   "id": "e115b2e9-1313-41d8-962a-ee9a85fe1a80",
   "metadata": {},
   "outputs": [
    {
     "data": {
      "text/html": [
       "<style>pre { white-space: pre !important; }</style>"
      ],
      "text/plain": [
       "<IPython.core.display.HTML object>"
      ]
     },
     "metadata": {},
     "output_type": "display_data"
    }
   ],
   "source": [
    "import pandas as pd\n",
    "import numpy as np\n",
    "from IPython.display import display\n",
    "\n",
    "pd.set_option('display.max_columns', 1000)\n",
    "pd.set_option('display.max_rows', 1000)\n",
    "pd.set_option('display.max_colwidth', 100)\n",
    "\n",
    "from IPython.core.display import HTML\n",
    "display(HTML(\"<style>pre { white-space: pre !important; }</style>\"))"
   ]
  },
  {
   "cell_type": "code",
   "execution_count": 2,
   "id": "0372fa63-fa56-40e3-9c43-44dcb8c92da1",
   "metadata": {},
   "outputs": [],
   "source": [
    "from pyspark.sql import SparkSession\n",
    "spark = SparkSession.builder.appName('create_session').getOrCreate()"
   ]
  },
  {
   "cell_type": "markdown",
   "id": "8a640d55-65e6-4199-9610-6f684457b2b1",
   "metadata": {},
   "source": [
    "# **Tables**"
   ]
  },
  {
   "cell_type": "markdown",
   "id": "96acfc1a-cc68-47c1-be02-aa7d2bc69810",
   "metadata": {},
   "source": [
    "Spark SQL provides spark.read().csv(\"file_name\") to read a file or directory of files in CSV format into Spark DataFrame, and dataframe.write().csv(\"path\") to write to a CSV file. Function option() can be used to customize the behavior of reading or writing, such as controlling behavior of the header, delimiter character, character set, and so on."
   ]
  },
  {
   "cell_type": "code",
   "execution_count": 3,
   "id": "f373668d-eeed-474d-8155-48cc1565d166",
   "metadata": {},
   "outputs": [],
   "source": [
    "df1=spark.read.option(\"header\", \"true\").option(\"inferSchema\", \"true\").csv('D:/LocalSetups/Jupyter/Data/matches.csv')\n",
    "df2=spark.read.option(\"header\", \"true\").option(\"inferSchema\", \"true\").csv('D:/LocalSetups/Jupyter/Data/deliveries.csv')"
   ]
  },
  {
   "cell_type": "markdown",
   "id": "5a5a242f-4123-4662-b01f-741afa250c7f",
   "metadata": {},
   "source": [
    "We can create a temporary view on DataFrame/Dataset by using createOrReplaceTempView() and using SQL to select and manipulate the data"
   ]
  },
  {
   "cell_type": "code",
   "execution_count": null,
   "id": "7853dde8-17f5-4964-a0b4-b397396aa4e0",
   "metadata": {},
   "outputs": [],
   "source": [
    "df1.createOrReplaceTempView(\"matches\")\n",
    "df2.createOrReplaceTempView(\"deliveries\")"
   ]
  },
  {
   "cell_type": "code",
   "execution_count": 6,
   "id": "8b6a5f99-6400-4a75-ba46-a45934e14082",
   "metadata": {},
   "outputs": [
    {
     "name": "stdout",
     "output_type": "stream",
     "text": [
      "+-------+------+---------+----------+--------------+-------------------+-------------------+-------------+------+----------+-------------------+-----------+--------------+---------------+--------------------+-----------+---------+--------------------+\n",
      "|     id|season|     city|      date|         team1|              team2|        toss_winner|toss_decision|result|dl_applied|             winner|win_by_runs|win_by_wickets|player_of_match|               venue|    umpire1|  umpire2|             umpire3|\n",
      "+-------+------+---------+----------+--------------+-------------------+-------------------+-------------+------+----------+-------------------+-----------+--------------+---------------+--------------------+-----------+---------+--------------------+\n",
      "|1370353|  2023|Ahmedabad|2023/05/29|Gujarat Titans|Chennai Super Kings|Chennai Super Kings|        field|   D/L|         1|Chennai Super Kings|          0|             5|      DP Conway|Narendra Modi Sta...|Nitin Menon|RJ Tucker|KN Ananthapadmana...|\n",
      "+-------+------+---------+----------+--------------+-------------------+-------------------+-------------+------+----------+-------------------+-----------+--------------+---------------+--------------------+-----------+---------+--------------------+\n",
      "\n"
     ]
    }
   ],
   "source": [
    "spark.sql(\"\"\"\n",
    "SELECT *\n",
    "FROM matches\n",
    "LIMIT 1\n",
    "\"\"\").show()"
   ]
  },
  {
   "cell_type": "code",
   "execution_count": 32,
   "id": "496f33bc-90bb-49ec-8bc0-a9d0bacba9d6",
   "metadata": {},
   "outputs": [
    {
     "name": "stdout",
     "output_type": "stream",
     "text": [
      "+--------+------+----------+--------------------+-------+----+--------------+-------------------+-------+------------+---------+------------+------+-----+-------+----+-------+-------+-----------+----------------+-----------------+----------------------+------------+\n",
      "|match_id|season|start_date|               venue|innings|ball|  batting_team|       bowling_team|striker| non_striker|   bowler|runs_off_bat|extras|wides|noballs|byes|legbyes|penalty|wicket_type|player_dismissed|other_wicket_type|other_player_dismissed|cricsheet_id|\n",
      "+--------+------+----------+--------------------+-------+----+--------------+-------------------+-------+------------+---------+------------+------+-----+-------+----+-------+-------+-----------+----------------+-----------------+----------------------+------------+\n",
      "| 1370353|  2023|2023-05-29|Narendra Modi Sta...|      1| 0.1|Gujarat Titans|Chennai Super Kings|WP Saha|Shubman Gill|DL Chahar|           0|     0| NULL|   NULL|NULL|   NULL|   NULL|       NULL|            NULL|             NULL|                  NULL|     1370353|\n",
      "+--------+------+----------+--------------------+-------+----+--------------+-------------------+-------+------------+---------+------------+------+-----+-------+----+-------+-------+-----------+----------------+-----------------+----------------------+------------+\n",
      "\n"
     ]
    }
   ],
   "source": [
    "spark.sql(\"\"\"\n",
    "SELECT *\n",
    "FROM deliveries\n",
    "LIMIT 1\n",
    "\"\"\").show()"
   ]
  },
  {
   "cell_type": "code",
   "execution_count": 8,
   "id": "22d0b10e-df08-46c1-b6cc-ccbf57dde5cf",
   "metadata": {},
   "outputs": [
    {
     "data": {
      "text/plain": [
       "DataFrame[match_id: int, season: string, start_date: date, venue: string, innings: int, ball: double, batting_team: string, bowling_team: string, striker: string, non_striker: string, bowler: string, runs_off_bat: int, extras: int, wides: double, noballs: double, byes: double, legbyes: double, penalty: double, wicket_type: string, player_dismissed: string, other_wicket_type: string, other_player_dismissed: string, cricsheet_id: int]"
      ]
     },
     "metadata": {},
     "output_type": "display_data"
    }
   ],
   "source": [
    "# display function gives you the columns name and their data types.\n",
    "display(\n",
    "spark.sql(\"\"\"\n",
    "SELECT *\n",
    "FROM deliveries\n",
    "LIMIT 1\n",
    "\"\"\")\n",
    ")"
   ]
  },
  {
   "cell_type": "markdown",
   "id": "d8238e57-5137-4a24-94b6-30dd060d2993",
   "metadata": {},
   "source": [
    "# **Questions**"
   ]
  },
  {
   "cell_type": "markdown",
   "id": "c4e32863-6a0a-4588-8b70-c02009d2b78f",
   "metadata": {},
   "source": [
    "***1. What is the percentage of wins by a team which has won the toss in Bangalore stadium?***"
   ]
  },
  {
   "cell_type": "code",
   "execution_count": 7,
   "id": "33af39bd-bea4-4773-a414-666294c3765c",
   "metadata": {
    "scrolled": true
   },
   "outputs": [
    {
     "name": "stdout",
     "output_type": "stream",
     "text": [
      "+--------------------+--------------+\n",
      "|                team|win_percentage|\n",
      "+--------------------+--------------+\n",
      "| Sunrisers Hyderabad|          50.0|\n",
      "| Chennai Super Kings|          50.0|\n",
      "|     Deccan Chargers|          50.0|\n",
      "|Kochi Tuskers Kerala|           0.0|\n",
      "|    Rajasthan Royals|         66.67|\n",
      "|       Gujarat Lions|          50.0|\n",
      "|Royal Challengers...|         47.83|\n",
      "|Kolkata Knight Ri...|         100.0|\n",
      "|     Kings XI Punjab|         42.86|\n",
      "|       Pune Warriors|           0.0|\n",
      "|    Delhi Daredevils|          50.0|\n",
      "|      Mumbai Indians|          75.0|\n",
      "+--------------------+--------------+\n",
      "\n"
     ]
    }
   ],
   "source": [
    "spark.sql( \"\"\"\n",
    "SELECT toss_winner AS team,\n",
    "    ROUND(100*SUM(CASE WHEN toss_winner=winner THEN 1 ELSE 0 END )/COUNT(*),2)  AS win_percentage\n",
    "FROM matches\n",
    "WHERE city='Bangalore'\n",
    "GROUP BY toss_winner\n",
    "\"\"\").show()"
   ]
  },
  {
   "cell_type": "markdown",
   "id": "7c6b4241-8613-4e60-ad7c-60dd08b3e3d5",
   "metadata": {},
   "source": [
    "***2. Display total matches played, total matches won and total matches lost by team along with its team name***"
   ]
  },
  {
   "cell_type": "code",
   "execution_count": 14,
   "id": "8a62ed7d-27b9-46f5-989b-9f8f98efad35",
   "metadata": {
    "scrolled": true
   },
   "outputs": [
    {
     "name": "stdout",
     "output_type": "stream",
     "text": [
      "+--------------------+-------------+-----------------+------------------+\n",
      "|           Team Name|Total Matches|Total Matches Won|Total Matches Lost|\n",
      "+--------------------+-------------+-----------------+------------------+\n",
      "|      Mumbai Indians|          247|              138|               105|\n",
      "| Chennai Super Kings|          224|              131|                91|\n",
      "|Kolkata Knight Ri...|          237|              119|               114|\n",
      "|Royal Challengers...|          240|              114|               120|\n",
      "|    Rajasthan Royals|          206|              101|               100|\n",
      "|     Kings XI Punjab|          190|               85|               101|\n",
      "| Sunrisers Hyderabad|          166|               78|                84|\n",
      "|    Delhi Daredevils|          161|               67|                91|\n",
      "|      Delhi Capitals|           77|               38|                36|\n",
      "|     Deccan Chargers|           75|               29|                46|\n",
      "|      Gujarat Titans|           33|               23|                10|\n",
      "|        Punjab Kings|           42|               19|                23|\n",
      "|Lucknow Super Giants|           30|               17|                12|\n",
      "|       Gujarat Lions|           30|               13|                16|\n",
      "|       Pune Warriors|           46|               12|                33|\n",
      "|Rising Pune Super...|           16|               10|                 6|\n",
      "|Kochi Tuskers Kerala|           14|                6|                 8|\n",
      "|Rising Pune Super...|           14|                5|                 9|\n",
      "+--------------------+-------------+-----------------+------------------+\n",
      "\n"
     ]
    }
   ],
   "source": [
    "spark.sql(\"\"\"\n",
    "WITH base_data AS (\n",
    "    SELECT team1 AS team_name,\n",
    "        COUNT(DISTINCT id) AS total_matches,\n",
    "        COUNT(DISTINCT CASE WHEN result <> 'no result' AND team1 = winner THEN id ELSE NULL END) AS total_matches_won,\n",
    "        COUNT(DISTINCT CASE WHEN result <> 'no result' AND team1 <> winner THEN id ELSE NULL END) AS total_matches_lost\n",
    "    FROM matches\n",
    "    GROUP BY 1\n",
    "\n",
    "    UNION ALL\n",
    "\n",
    "    SELECT team2 AS team_name,\n",
    "        COUNT(DISTINCT id) AS total_matches,\n",
    "        COUNT(DISTINCT CASE WHEN result <> 'no result' AND team2 = winner THEN id ELSE NULL END) AS total_matches_won,\n",
    "        COUNT(DISTINCT CASE WHEN result <> 'no result' AND team2 <> winner THEN id ELSE NULL END) AS total_matches_lost\n",
    "    FROM matches\n",
    "    GROUP BY 1\n",
    ")\n",
    "\n",
    "SELECT team_name AS `Team Name`,\n",
    "    SUM(total_matches) AS `Total Matches`,\n",
    "    SUM(total_matches_won) AS `Total Matches Won`,\n",
    "    SUM(total_matches_lost) AS `Total Matches Lost`\n",
    "FROM base_data\n",
    "GROUP BY 1\n",
    "ORDER BY 3 DESC;\n",
    "\"\"\").show()"
   ]
  },
  {
   "cell_type": "code",
   "execution_count": 16,
   "id": "e31f7072-9412-4205-bde0-9f85a1583ea3",
   "metadata": {},
   "outputs": [
    {
     "data": {
      "text/html": [
       "<style>pre { white-space: pre !important; }</style>"
      ],
      "text/plain": [
       "<IPython.core.display.HTML object>"
      ]
     },
     "metadata": {},
     "output_type": "display_data"
    }
   ],
   "source": []
  },
  {
   "cell_type": "code",
   "execution_count": 17,
   "id": "72754e96-2be5-40a6-a110-59d8fefdbe46",
   "metadata": {},
   "outputs": [
    {
     "name": "stdout",
     "output_type": "stream",
     "text": [
      "+-------+------+---------+----------+--------------+-------------------+-------------------+-------------+------+----------+-------------------+-----------+--------------+---------------+--------------------+-----------+---------+--------------------+\n",
      "|     id|season|     city|      date|         team1|              team2|        toss_winner|toss_decision|result|dl_applied|             winner|win_by_runs|win_by_wickets|player_of_match|               venue|    umpire1|  umpire2|             umpire3|\n",
      "+-------+------+---------+----------+--------------+-------------------+-------------------+-------------+------+----------+-------------------+-----------+--------------+---------------+--------------------+-----------+---------+--------------------+\n",
      "|1370353|  2023|Ahmedabad|2023/05/29|Gujarat Titans|Chennai Super Kings|Chennai Super Kings|        field|   D/L|         1|Chennai Super Kings|          0|             5|      DP Conway|Narendra Modi Sta...|Nitin Menon|RJ Tucker|KN Ananthapadmana...|\n",
      "+-------+------+---------+----------+--------------+-------------------+-------------------+-------------+------+----------+-------------------+-----------+--------------+---------------+--------------------+-----------+---------+--------------------+\n",
      "\n"
     ]
    }
   ],
   "source": [
    "spark.sql(\n",
    "    '''SELECT *\n",
    "       FROM matches\n",
    "       LIMIT 1\n",
    "       '''\n",
    ").show()"
   ]
  },
  {
   "cell_type": "markdown",
   "id": "99139e44-795e-4a09-ad29-1ebf143fbbe5",
   "metadata": {},
   "source": [
    " ***3. Top 10 Batsman based on batting average***"
   ]
  },
  {
   "cell_type": "code",
   "execution_count": 10,
   "id": "50be019c-d4a1-49ca-9443-9f1f0a508384",
   "metadata": {},
   "outputs": [
    {
     "name": "stdout",
     "output_type": "stream",
     "text": [
      "+---------------+-----------+\n",
      "|         player|batting_avg|\n",
      "+---------------+-----------+\n",
      "| Vivrant Sharma|       69.0|\n",
      "|     MN van Wyk|      55.67|\n",
      "|        C Green|      50.22|\n",
      "|      DP Conway|      48.63|\n",
      "|B Sai Sudharsan|      46.09|\n",
      "|       KL Rahul|      45.81|\n",
      "|       AC Voges|      45.25|\n",
      "|        HM Amla|      44.38|\n",
      "|  Iqbal Abdulla|       44.0|\n",
      "|      DA Warner|      41.02|\n",
      "+---------------+-----------+\n",
      "\n"
     ]
    }
   ],
   "source": [
    "spark.sql(\"\"\"\n",
    "WITH batsman_runs AS (\n",
    "    \tSELECT striker AS player,\n",
    "             SUM(runs_off_bat) AS total_runs\n",
    "    \tFROM deliveries\n",
    "    \tGROUP BY 1\n",
    "         ),\n",
    "    batsman_dismissed AS (\n",
    "    \tSELECT player_dismissed AS player,\n",
    "             COUNT(player_dismissed) AS total_dismissed\n",
    "    \tFROM deliveries\n",
    "        WHERE wicket_type <> 'retired hurt' \n",
    "    \tGROUP BY player_dismissed )\n",
    "    \n",
    "SELECT A.player, \n",
    "    ROUND( total_runs/total_dismissed ,2) AS batting_avg\n",
    "FROM batsman_runs A\n",
    "JOIN batsman_dismissed B ON A.player=B.player\n",
    "ORDER BY batting_avg DESC\n",
    "LIMIT 10 \n",
    "\"\"\").show()"
   ]
  },
  {
   "cell_type": "markdown",
   "id": "de903816-3784-4e24-895d-50bf2bc631c9",
   "metadata": {},
   "source": [
    "***4. Top 10 Batsman based on batting strike rate to played minimum 200 balls***"
   ]
  },
  {
   "cell_type": "code",
   "execution_count": 65,
   "id": "f57ff925-ac03-481d-851a-cb74fe57a747",
   "metadata": {
    "scrolled": true
   },
   "outputs": [
    {
     "name": "stdout",
     "output_type": "stream",
     "text": [
      "+--------------+-------------------+\n",
      "|       striker|batting_strike_rate|\n",
      "+--------------+-------------------+\n",
      "|      TH David|  167.8714859437751|\n",
      "|    AD Russell| 164.91994177583697|\n",
      "|     H Klaasen|            160.625|\n",
      "|   Rashid Khan|  158.2142857142857|\n",
      "|       C Green| 157.49128919860627|\n",
      "|LS Livingstone| 157.11574952561668|\n",
      "|     JM Sharma| 153.38983050847457|\n",
      "|    GJ Maxwell|  151.4476614699332|\n",
      "|     SP Narine| 151.15606936416185|\n",
      "|      N Pooran|  149.9409681227863|\n",
      "+--------------+-------------------+\n",
      "\n"
     ]
    }
   ],
   "source": [
    "spark.sql(\"\"\"\n",
    "SELECT striker,\n",
    "    100*SUM(runs_off_bat)/COUNT(*) AS batting_strike_rate\n",
    "FROM deliveries\n",
    "GROUP BY striker\n",
    "HAVING COUNT(*)>200\n",
    "ORDER BY batting_strike_rate DESC\n",
    "LIMIT 10\n",
    "\"\"\").show()"
   ]
  },
  {
   "cell_type": "markdown",
   "id": "55a4f7e2-8733-47d3-ac0c-baedcb66abda",
   "metadata": {},
   "source": [
    "***5. Top 10 batsman based on highest score***"
   ]
  },
  {
   "cell_type": "code",
   "execution_count": 59,
   "id": "a575955e-07b7-4197-bae0-9654be75a8a4",
   "metadata": {},
   "outputs": [
    {
     "name": "stdout",
     "output_type": "stream",
     "text": [
      "+-------+--------------+-------------+\n",
      "| season|       striker|highest_score|\n",
      "+-------+--------------+-------------+\n",
      "|   2013|      CH Gayle|          175|\n",
      "|2007/08|   BB McCullum|          158|\n",
      "|   2022|     Q de Kock|          140|\n",
      "|   2015|AB de Villiers|          133|\n",
      "|2020/21|      KL Rahul|          132|\n",
      "|   2016|AB de Villiers|          129|\n",
      "|   2023|  Shubman Gill|          129|\n",
      "|   2018|       RR Pant|          128|\n",
      "|   2012|      CH Gayle|          128|\n",
      "|2009/10|       M Vijay|          127|\n",
      "+-------+--------------+-------------+\n",
      "\n"
     ]
    }
   ],
   "source": [
    "spark.sql(\"\"\"\n",
    "SELECT season, \n",
    "    striker,\n",
    "    SUM(runs_off_bat) AS highest_score\n",
    "FROM deliveries\n",
    "GROUP BY match_id,season,striker\n",
    "ORDER BY highest_score DESC\n",
    "LIMIT 10\n",
    "\"\"\").show()"
   ]
  },
  {
   "cell_type": "markdown",
   "id": "9e6b3370-f04c-4937-9a04-76fc6c624c1b",
   "metadata": {},
   "source": [
    " ***6. Orange Cap Holder***"
   ]
  },
  {
   "cell_type": "code",
   "execution_count": 60,
   "id": "64181eda-b156-4f9c-ba95-22755e4c753c",
   "metadata": {
    "scrolled": true
   },
   "outputs": [
    {
     "name": "stdout",
     "output_type": "stream",
     "text": [
      "+-------+-------------+----------+\n",
      "| season|      striker|total_runs|\n",
      "+-------+-------------+----------+\n",
      "|2007/08|     SE Marsh|       616|\n",
      "|   2009|    ML Hayden|       572|\n",
      "|2009/10| SR Tendulkar|       618|\n",
      "|   2011|     CH Gayle|       608|\n",
      "|   2012|     CH Gayle|       733|\n",
      "|   2013|   MEK Hussey|       733|\n",
      "|   2014|   RV Uthappa|       660|\n",
      "|   2015|    DA Warner|       562|\n",
      "|   2016|      V Kohli|       973|\n",
      "|   2017|    DA Warner|       641|\n",
      "|   2018|KS Williamson|       735|\n",
      "|   2019|    DA Warner|       692|\n",
      "|2020/21|     KL Rahul|       676|\n",
      "|   2021|   RD Gaikwad|       635|\n",
      "|   2022|   JC Buttler|       863|\n",
      "|   2023| Shubman Gill|       890|\n",
      "+-------+-------------+----------+\n",
      "\n"
     ]
    }
   ],
   "source": [
    "spark.sql(\"\"\"\n",
    "WITH batsman_run AS (\n",
    "    SELECT season,\n",
    "        striker,\n",
    "        SUM(runs_off_bat) AS total_runs\n",
    "    FROM deliveries\n",
    "    GROUP BY 1,2\n",
    "    )\n",
    "SELECT season,\n",
    "    striker,\n",
    "    total_runs\n",
    "FROM(\n",
    "    SELECT *, \n",
    "        ROW_NUMBER() OVER(PARTITION BY season ORDER BY total_runs DESC) AS rnk\n",
    "    FROM batsman_run\n",
    "    ) \n",
    "WHERE rnk=1 \n",
    "\"\"\").show()"
   ]
  },
  {
   "cell_type": "markdown",
   "id": "6460aec3-d6b9-4f22-a543-2055f000fcd8",
   "metadata": {},
   "source": [
    " ***7. Purple Cap Holder***"
   ]
  },
  {
   "cell_type": "code",
   "execution_count": 10,
   "id": "5a74214a-3367-479b-9a51-85641f11ca18",
   "metadata": {},
   "outputs": [
    {
     "name": "stdout",
     "output_type": "stream",
     "text": [
      "+-------+--------------+------------+--------------+----------+------------------------+----------+------+-------------+\n",
      "| season|        bowler|total_wicket|stumped_wicket|lbw_wicket|caught_and_bowled_wicket|hit_wicket|caught|bowled_wicket|\n",
      "+-------+--------------+------------+--------------+----------+------------------------+----------+------+-------------+\n",
      "|2007/08| Sohail Tanvir|          22|             0|         3|                       0|         0|    11|            8|\n",
      "|   2009|      RP Singh|          23|             0|         0|                       1|         0|    17|            5|\n",
      "|2009/10|       PP Ojha|          21|             4|         1|                       0|         0|    12|            4|\n",
      "|   2011|    SL Malinga|          28|             0|         0|                       2|         0|    10|           16|\n",
      "|   2012|      M Morkel|          25|             0|         1|                       0|         0|    16|            8|\n",
      "|   2013|      DJ Bravo|          32|             0|         2|                       2|         0|    23|            5|\n",
      "|   2014|     MM Sharma|          23|             0|         1|                       0|         0|    14|            8|\n",
      "|   2015|      DJ Bravo|          26|             0|         0|                       1|         0|    23|            2|\n",
      "|   2016|       B Kumar|          23|             0|         1|                       1|         0|    15|            6|\n",
      "|   2017|       B Kumar|          26|             0|         2|                       1|         0|    17|            6|\n",
      "|   2018|        AJ Tye|          24|             0|         0|                       0|         0|    21|            3|\n",
      "|   2019|   Imran Tahir|          26|             1|         1|                       3|         0|    19|            2|\n",
      "|2020/21|      K Rabada|          32|             0|         0|                       0|         0|    27|            5|\n",
      "|   2021|      HV Patel|          32|             0|         3|                       0|         0|    24|            5|\n",
      "|   2022|     YS Chahal|          27|             2|         4|                       0|         0|    16|            5|\n",
      "|   2023|Mohammed Shami|          28|             0|         1|                       1|         0|    21|            5|\n",
      "+-------+--------------+------------+--------------+----------+------------------------+----------+------+-------------+\n",
      "\n"
     ]
    }
   ],
   "source": [
    "spark.sql( \"\"\"\n",
    "WITH cte AS (\n",
    "\tSELECT season,\n",
    "        bowler,\n",
    "        COUNT(player_dismissed) AS total_wicket,COUNT(CASE WHEN wicket_type = 'bowled' THEN 1 ELSE NULL END) AS bowled_wicket,\n",
    "        COUNT(CASE WHEN wicket_type = 'stumped' THEN 1 ELSE NULL END) AS stumped_wicket,  COUNT(CASE WHEN wicket_type = 'lbw' THEN 1 ELSE NULL END) AS lbw_wicket,\n",
    "        COUNT(CASE WHEN wicket_type = 'caught and bowled' THEN 1 ELSE NULL END) AS caught_and_bowled_wicket,\n",
    "        COUNT(CASE WHEN wicket_type = 'hit wicket' THEN 1 ELSE NULL END) AS hit_wicket,\n",
    "        COUNT(CASE WHEN wicket_type = 'caught' THEN 1 ELSE NULL END) AS caught\n",
    "\tFROM  deliveries\n",
    "    WHERE wicket_type NOT IN ( 'run out','retired out','obstructing the field')\n",
    "\tGROUP BY season,bowler\n",
    "    )\n",
    "\n",
    "SELECT season,\n",
    "    bowler, \n",
    "    total_wicket,\n",
    "    stumped_wicket,\n",
    "    lbw_wicket,\n",
    "    caught_and_bowled_wicket,\n",
    "    hit_wicket,\n",
    "    caught,\n",
    "    bowled_wicket\n",
    "FROM(SELECT *, \n",
    "        ROW_NUMBER() OVER(partition by season ORDER BY total_wicket DESC) AS rnk\n",
    "    FROM cte) A\n",
    "WHERE rnk=1\n",
    "\"\"\"\n",
    ").show()"
   ]
  },
  {
   "cell_type": "markdown",
   "id": "033640ee-5712-4730-844e-4f9afc17a6e6",
   "metadata": {},
   "source": [
    " ***8. Getting the frequency of most man of the match awards***"
   ]
  },
  {
   "cell_type": "code",
   "execution_count": 11,
   "id": "4cf22bd4-25ba-457a-a4e6-7c3c35f7fb99",
   "metadata": {},
   "outputs": [
    {
     "name": "stdout",
     "output_type": "stream",
     "text": [
      "+---------------+---------+\n",
      "|player_of_match|total_mom|\n",
      "+---------------+---------+\n",
      "|AB de Villiers |25       |\n",
      "+---------------+---------+\n",
      "\n"
     ]
    }
   ],
   "source": [
    "spark.sql('''\n",
    "SELECT player_of_match,\n",
    "    COUNT(player_of_match) AS total_mom\n",
    "FROM matches\n",
    "GROUP BY player_of_match\n",
    "ORDER BY total_mom DESC\n",
    "LIMIT 1\n",
    "''').show(truncate=False)"
   ]
  },
  {
   "cell_type": "markdown",
   "id": "c576374e-a79b-4d4b-9439-ccf4c43acdb1",
   "metadata": {},
   "source": [
    "***9. Finding number of toss wins w.r.t each team***"
   ]
  },
  {
   "cell_type": "code",
   "execution_count": 12,
   "id": "268858f0-e3c8-4128-87ac-36ec0c8fffad",
   "metadata": {},
   "outputs": [
    {
     "name": "stdout",
     "output_type": "stream",
     "text": [
      "+-------------------+--------------------+------------------+\n",
      "|             team_1|              team_2|total_win_by_team1|\n",
      "+-------------------+--------------------+------------------+\n",
      "|Chennai Super Kings|     Deccan Chargers|                 5|\n",
      "|Chennai Super Kings|      Delhi Capitals|                 6|\n",
      "|Chennai Super Kings|    Delhi Daredevils|                11|\n",
      "|Chennai Super Kings|      Gujarat Titans|                 2|\n",
      "|Chennai Super Kings|     Kings XI Punjab|                15|\n",
      "|Chennai Super Kings|Kochi Tuskers Kerala|                 1|\n",
      "|Chennai Super Kings|Kolkata Knight Ri...|                13|\n",
      "|Chennai Super Kings|Lucknow Super Giants|                 1|\n",
      "|Chennai Super Kings|      Mumbai Indians|                18|\n",
      "|Chennai Super Kings|       Pune Warriors|                 2|\n",
      "|Chennai Super Kings|        Punjab Kings|                 4|\n",
      "|Chennai Super Kings|    Rajasthan Royals|                11|\n",
      "|Chennai Super Kings|Royal Challengers...|                20|\n",
      "|Chennai Super Kings| Sunrisers Hyderabad|                10|\n",
      "|    Deccan Chargers| Chennai Super Kings|                 5|\n",
      "|    Deccan Chargers|    Delhi Daredevils|                 9|\n",
      "|    Deccan Chargers|     Kings XI Punjab|                 4|\n",
      "|    Deccan Chargers|Kochi Tuskers Kerala|                 0|\n",
      "|    Deccan Chargers|Kolkata Knight Ri...|                 4|\n",
      "|    Deccan Chargers|      Mumbai Indians|                 8|\n",
      "+-------------------+--------------------+------------------+\n",
      "only showing top 20 rows\n",
      "\n"
     ]
    }
   ],
   "source": [
    "spark.sql('''\n",
    "SELECT team_1,\n",
    "    team_2,\n",
    "    SUM(total_toss_win) AS total_win_by_team1\n",
    "FROM(\n",
    "    SELECT team1 AS team_1,\n",
    "        team2 AS team_2,\n",
    "        SUM( CASE WHEN team1=toss_winner THEN 1 ELSE 0 END) AS total_toss_win\n",
    "    FROM matches\n",
    "    GROUP BY team1,team2\n",
    "\n",
    "    UNION ALL\n",
    "    \n",
    "    SELECT team2 AS team_1,\n",
    "        team1 AS team_2, \n",
    "        SUM( CASE WHEN team2=toss_winner THEN 1 ELSE 0 END) AS total_toss_win\n",
    "    FROM matches\n",
    "    GROUP BY team2,team1 ) \n",
    "GROUP BY team_1,team_2\n",
    "ORDER BY team_1,team_2\n",
    "''').show()"
   ]
  },
  {
   "cell_type": "markdown",
   "id": "1e4577ca-f646-4090-bef1-6171d29d8c63",
   "metadata": {},
   "source": [
    "***10. Which team most win after batting first has won the match***"
   ]
  },
  {
   "cell_type": "code",
   "execution_count": 19,
   "id": "8551d35d-8adf-4c85-834b-c8f7df524e1d",
   "metadata": {},
   "outputs": [
    {
     "name": "stdout",
     "output_type": "stream",
     "text": [
      "+---------------------------+-----------------------------+\n",
      "|winner                     |total_win_after_batting_first|\n",
      "+---------------------------+-----------------------------+\n",
      "|Sunrisers Hyderabad        |38                           |\n",
      "|Lucknow Super Giants       |12                           |\n",
      "|Chennai Super Kings        |66                           |\n",
      "|Gujarat Titans             |9                            |\n",
      "|NULL                       |0                            |\n",
      "|Rising Pune Supergiant     |5                            |\n",
      "|Deccan Chargers            |18                           |\n",
      "|Kochi Tuskers Kerala       |2                            |\n",
      "|Rajasthan Royals           |41                           |\n",
      "|Gujarat Lions              |1                            |\n",
      "|Royal Challengers Bangalore|53                           |\n",
      "|Kolkata Knight Riders      |46                           |\n",
      "|Rising Pune Supergiants    |0                            |\n",
      "|Kings XI Punjab            |39                           |\n",
      "|Punjab Kings               |11                           |\n",
      "|Pune Warriors              |6                            |\n",
      "|Delhi Daredevils           |25                           |\n",
      "|Delhi Capitals             |16                           |\n",
      "|Mumbai Indians             |69                           |\n",
      "+---------------------------+-----------------------------+\n",
      "\n"
     ]
    }
   ],
   "source": [
    "spark.sql('''\n",
    "SELECT winner, \n",
    "    SUM(CASE WHEN (toss_winner=winner AND toss_decision='bat') OR \n",
    "        (toss_winner!=winner AND toss_decision='field') THEN 1 ELSE 0 END) AS total_win_after_batting_first\n",
    "FROM matches\n",
    "GROUP BY winner\n",
    "''').show(truncate=False)"
   ]
  },
  {
   "cell_type": "markdown",
   "id": "c4d537be-52eb-4828-b006-c7dd4991bc28",
   "metadata": {},
   "source": [
    "***11. Find out how many times a team has won the match after winning the toss***"
   ]
  },
  {
   "cell_type": "code",
   "execution_count": 28,
   "id": "628427f5-3dcd-4cfe-941a-b1e381f4219f",
   "metadata": {},
   "outputs": [
    {
     "name": "stdout",
     "output_type": "stream",
     "text": [
      "+---------------------------+----------+\n",
      "|team                       |total_wins|\n",
      "+---------------------------+----------+\n",
      "|Mumbai Indians             |75        |\n",
      "|Chennai Super Kings        |74        |\n",
      "|Kolkata Knight Riders      |65        |\n",
      "|Royal Challengers Bangalore|56        |\n",
      "|Rajasthan Royals           |52        |\n",
      "|Sunrisers Hyderabad        |36        |\n",
      "|Kings XI Punjab            |35        |\n",
      "|Delhi Daredevils           |35        |\n",
      "|Delhi Capitals             |22        |\n",
      "|Deccan Chargers            |19        |\n",
      "|Gujarat Titans             |13        |\n",
      "|Gujarat Lions              |10        |\n",
      "|Lucknow Super Giants       |5         |\n",
      "|Rising Pune Supergiant     |5         |\n",
      "|Punjab Kings               |5         |\n",
      "|Kochi Tuskers Kerala       |4         |\n",
      "|Rising Pune Supergiants    |3         |\n",
      "|Pune Warriors              |3         |\n",
      "+---------------------------+----------+\n",
      "\n"
     ]
    }
   ],
   "source": [
    "spark.sql('''\n",
    "SELECT team,\n",
    "    SUM(total_win) AS total_wins\n",
    "FROM\t\n",
    "    (SELECT team1 AS team,\n",
    "        SUM( CASE WHEN toss_winner=winner and winner =team1 THEN 1 ELSE 0 END ) as total_win\n",
    "\tFROM matches\n",
    "\tGROUP BY team1\n",
    " \n",
    "\tUNION ALL\n",
    " \n",
    "\tSELECT team2,\n",
    "         SUM( CASE WHEN toss_winner=winner and winner =team2 THEN 1 ELSE 0 END ) \n",
    "\tFROM matches\n",
    "\tGROUP BY team2)\n",
    "GROUP BY team\n",
    "ORDER BY total_wins DESC\n",
    "'''    \n",
    ").show(truncate=False)"
   ]
  },
  {
   "cell_type": "markdown",
   "id": "5abd518a-6931-48ce-98c5-9c6d586a808b",
   "metadata": {},
   "source": [
    "***12. Which city hosted the most number of matches?***"
   ]
  },
  {
   "cell_type": "code",
   "execution_count": 30,
   "id": "e863cd5d-e87c-4467-8cd0-c077ff0318e0",
   "metadata": {
    "scrolled": true
   },
   "outputs": [
    {
     "name": "stdout",
     "output_type": "stream",
     "text": [
      "+-------------+-----------------------------+\n",
      "|         city|most_number_of_matches_hosted|\n",
      "+-------------+-----------------------------+\n",
      "|       Mumbai|                          166|\n",
      "|      Kolkata|                           86|\n",
      "|        Delhi|                           85|\n",
      "|      Chennai|                           76|\n",
      "|    Hyderabad|                           71|\n",
      "|    Bangalore|                           65|\n",
      "|   Chandigarh|                           61|\n",
      "|       Jaipur|                           52|\n",
      "|         NULL|                           51|\n",
      "|         Pune|                           51|\n",
      "|    Abu Dhabi|                           37|\n",
      "|    Ahmedabad|                           28|\n",
      "|    Bengaluru|                           22|\n",
      "|       Durban|                           15|\n",
      "|        Dubai|                           13|\n",
      "|Visakhapatnam|                           13|\n",
      "|    Centurion|                           12|\n",
      "|   Dharamsala|                           11|\n",
      "|      Sharjah|                           10|\n",
      "|       Rajkot|                           10|\n",
      "+-------------+-----------------------------+\n",
      "only showing top 20 rows\n",
      "\n"
     ]
    }
   ],
   "source": [
    "spark.sql('''\n",
    "SELECT city,\n",
    "    COUNT(*) AS most_number_of_matches_hosted\n",
    "FROM matches\n",
    "GROUP BY city\n",
    "ORDER BY most_number_of_matches_hosted DESC\n",
    "''').show()"
   ]
  },
  {
   "cell_type": "markdown",
   "id": "54920b7b-4010-4454-8028-5dbadf4d042f",
   "metadata": {},
   "source": [
    "***13.which team won most number of toss***"
   ]
  },
  {
   "cell_type": "code",
   "execution_count": 46,
   "id": "b7226e6f-1e1b-4204-83d7-8cb617508b50",
   "metadata": {},
   "outputs": [
    {
     "name": "stdout",
     "output_type": "stream",
     "text": [
      "+---------------------------+--------------+------------------+-----------------------+\n",
      "|team                       |total_won_toss|total_match_played|toss_winning_percentage|\n",
      "+---------------------------+--------------+------------------+-----------------------+\n",
      "|Mumbai Indians             |133           |247               |53.85                  |\n",
      "|Chennai Super Kings        |119           |224               |53.13                  |\n",
      "|Kolkata Knight Riders      |119           |237               |50.21                  |\n",
      "|Royal Challengers Bangalore|113           |240               |47.08                  |\n",
      "|Rajasthan Royals           |109           |206               |52.91                  |\n",
      "|Kings XI Punjab            |85            |190               |44.74                  |\n",
      "|Sunrisers Hyderabad        |81            |166               |48.8                   |\n",
      "|Delhi Daredevils           |80            |161               |49.69                  |\n",
      "|Deccan Chargers            |43            |75                |57.33                  |\n",
      "|Delhi Capitals             |43            |77                |55.84                  |\n",
      "|Pune Warriors              |20            |46                |43.48                  |\n",
      "|Gujarat Titans             |19            |33                |57.58                  |\n",
      "|Gujarat Lions              |15            |30                |50.0                   |\n",
      "|Punjab Kings               |14            |42                |33.33                  |\n",
      "|Lucknow Super Giants       |10            |30                |33.33                  |\n",
      "|Kochi Tuskers Kerala       |8             |14                |57.14                  |\n",
      "|Rising Pune Supergiants    |7             |14                |50.0                   |\n",
      "|Rising Pune Supergiant     |6             |16                |37.5                   |\n",
      "+---------------------------+--------------+------------------+-----------------------+\n",
      "\n"
     ]
    }
   ],
   "source": [
    "spark.sql('''\n",
    "SELECT team,\n",
    "    SUM(total) AS total_won_toss,\n",
    "    SUM(total_m) AS total_match_played,\n",
    "    ROUND(100*SUM(total)/SUM(total_m),2) AS toss_winning_percentage\n",
    "FROM(\n",
    "    SELECT team1 AS team,\n",
    "        COUNT(DISTINCT id) AS  total_m,\n",
    "        SUM(IF(team1 = toss_winner,1,0)) AS total\n",
    "    FROM matches\n",
    "    GROUP BY team1\n",
    "    \n",
    "    UNION ALL\n",
    "    \n",
    "    SELECT team2,\n",
    "        COUNT(DISTINCT id),\n",
    "        SUM(IF(team2 = toss_winner,1,0)) \n",
    "    FROM matches\n",
    "    GROUP BY team2\n",
    "    ) \n",
    "GROUP BY team\n",
    "ORDER BY total_won_toss DESC,toss_winning_percentage DESC\n",
    "''').show(truncate=False)"
   ]
  },
  {
   "cell_type": "code",
   "execution_count": 36,
   "id": "66633729-b6ed-4e4d-aed1-dc3e52bb7ca6",
   "metadata": {},
   "outputs": [
    {
     "name": "stdout",
     "output_type": "stream",
     "text": [
      "+---------------------------+----------+\n",
      "|team1                      |total_num1|\n",
      "+---------------------------+----------+\n",
      "|Sunrisers Hyderabad        |29        |\n",
      "|Lucknow Super Giants       |2         |\n",
      "|Chennai Super Kings        |52        |\n",
      "|Gujarat Titans             |6         |\n",
      "|Rising Pune Supergiant     |5         |\n",
      "|Deccan Chargers            |22        |\n",
      "|Kochi Tuskers Kerala       |4         |\n",
      "|Rajasthan Royals           |38        |\n",
      "|Gujarat Lions              |7         |\n",
      "|Royal Challengers Bangalore|47        |\n",
      "|Kolkata Knight Riders      |43        |\n",
      "|Rising Pune Supergiants    |2         |\n",
      "|Kings XI Punjab            |34        |\n",
      "|Punjab Kings               |3         |\n",
      "|Pune Warriors              |10        |\n",
      "|Delhi Daredevils           |39        |\n",
      "|Delhi Capitals             |10        |\n",
      "|Mumbai Indians             |53        |\n",
      "+---------------------------+----------+\n",
      "\n"
     ]
    }
   ],
   "source": [
    "spark.sql('''\n",
    "SELECT team1,\n",
    "    SUM(CASE WHEN (team1 = toss_winner) THEN 1 ELSE 0 END) AS total_num1\n",
    "FROM matches\n",
    "GROUP BY team1\n",
    "''').show(truncate=False)"
   ]
  },
  {
   "cell_type": "markdown",
   "id": "cb9027a9-b6c7-4275-ba86-3452b7deda5a",
   "metadata": {},
   "source": [
    "***14.Number of matches played in each season and no. of balls?***"
   ]
  },
  {
   "cell_type": "code",
   "execution_count": 56,
   "id": "6e939713-6c45-4104-a39e-00dac094d110",
   "metadata": {},
   "outputs": [
    {
     "name": "stdout",
     "output_type": "stream",
     "text": [
      "+-------+------------------+-----------+\n",
      "| season|total_match_played|no_of_balls|\n",
      "+-------+------------------+-----------+\n",
      "|2007/08|                58|      13489|\n",
      "|   2009|                57|      13606|\n",
      "|2009/10|                60|      14498|\n",
      "|   2011|                73|      17013|\n",
      "|   2012|                74|      17767|\n",
      "|   2013|                76|      18177|\n",
      "|   2014|                60|      14300|\n",
      "|   2015|                59|      13652|\n",
      "|   2016|                60|      14096|\n",
      "|   2017|                59|      13862|\n",
      "|   2018|                60|      14286|\n",
      "|   2019|                60|      14312|\n",
      "|2020/21|                60|      14559|\n",
      "|   2021|                60|      14425|\n",
      "|   2022|                74|      17912|\n",
      "|   2023|                74|      17863|\n",
      "+-------+------------------+-----------+\n",
      "\n"
     ]
    }
   ],
   "source": [
    "spark.sql('''\n",
    "SELECT season,\n",
    "    COUNT(DISTINCT match_id) AS total_match_played,\n",
    "    COUNT(ball) AS no_of_balls\n",
    "FROM deliveries\n",
    "GROUP BY season\n",
    "ORDER BY Season \n",
    "''').show()"
   ]
  },
  {
   "cell_type": "markdown",
   "id": "508bbe8c-0e33-44e2-a63e-b369d855ea5d",
   "metadata": {},
   "source": [
    "***15. Highest & lowest run scored by a batsman?***"
   ]
  },
  {
   "cell_type": "code",
   "execution_count": 64,
   "id": "e963a934-9f3e-48f3-819e-f7ccdb1acda3",
   "metadata": {},
   "outputs": [
    {
     "name": "stdout",
     "output_type": "stream",
     "text": [
      "+------+---------------+------------+-----------+\n",
      "|season|        striker|Highest_runs|Lowest_runs|\n",
      "+------+---------------+------------+-----------+\n",
      "|  2023|   Shubman Gill|         129|          0|\n",
      "|  2023|    YBK Jaiswal|         124|          0|\n",
      "|  2023|        VR Iyer|         104|          0|\n",
      "|  2023|      H Klaasen|         104|         16|\n",
      "|  2023|       SA Yadav|         103|          0|\n",
      "|  2023| P Simran Singh|         103|          0|\n",
      "|  2023|        V Kohli|         101|          0|\n",
      "|  2023|       HC Brook|         100|          0|\n",
      "|  2023|        C Green|         100|          1|\n",
      "|  2023|       S Dhawan|          99|          0|\n",
      "|  2023|B Sai Sudharsan|          96|         19|\n",
      "|  2023|     JC Buttler|          95|          0|\n",
      "|  2023| LS Livingstone|          94|          2|\n",
      "|  2023|      DP Conway|          92|          0|\n",
      "|  2023|     RD Gaikwad|          92|          3|\n",
      "|  2023|     MP Stoinis|          89|          0|\n",
      "|  2023|        PD Salt|          87|          0|\n",
      "|  2023|      DA Warner|          86|          0|\n",
      "|  2023|    Tilak Varma|          84|          2|\n",
      "|  2023|   F du Plessis|          84|         17|\n",
      "+------+---------------+------------+-----------+\n",
      "only showing top 20 rows\n",
      "\n"
     ]
    }
   ],
   "source": [
    "spark.sql('''\n",
    "WITH batsman_runs AS (\n",
    "    SELECT season, \n",
    "        match_id,\n",
    "        striker,\n",
    "        SUM(runs_off_bat) AS total_batsman_run\n",
    "    FROM deliveries\n",
    "    GROUP BY 1,2,3\n",
    ")\n",
    "SELECT season,\n",
    "    striker,\n",
    "    MAX(total_batsman_run) AS Highest_runs,\n",
    "    MIN(total_batsman_run) AS  Lowest_runs\n",
    "FROM batsman_runs\n",
    "GROUP BY 1,2\n",
    "ORDER BY season DESC,Highest_runs DESC ,Lowest_runs\n",
    "''').show()"
   ]
  },
  {
   "cell_type": "markdown",
   "id": "7dafe720-0199-40df-90eb-15f0fb446187",
   "metadata": {},
   "source": [
    "***16. To find the player who has scored the most centuries in each season of the IPL, and in case of a tie, print the highest score of the batsman***"
   ]
  },
  {
   "cell_type": "code",
   "execution_count": 20,
   "id": "ad25bf89-9977-4576-ac1a-c7419b9a1229",
   "metadata": {},
   "outputs": [
    {
     "name": "stdout",
     "output_type": "stream",
     "text": [
      "+-------+--------------+------------+-------------+\n",
      "| season|       striker|most_century|highest_score|\n",
      "+-------+--------------+------------+-------------+\n",
      "|   2023|  Shubman Gill|           3|          129|\n",
      "|   2022|    JC Buttler|           4|          116|\n",
      "|   2021|    JC Buttler|           1|          124|\n",
      "|2020/21|      S Dhawan|           2|          106|\n",
      "|   2019|   JM Bairstow|           1|          114|\n",
      "|   2018|     SR Watson|           2|          117|\n",
      "|   2017|       HM Amla|           2|          104|\n",
      "|   2016|       V Kohli|           4|          113|\n",
      "|   2015|AB de Villiers|           1|          133|\n",
      "|   2014|      V Sehwag|           1|          122|\n",
      "|   2013|      CH Gayle|           1|          175|\n",
      "|   2012|      CH Gayle|           1|          128|\n",
      "|   2011|      CH Gayle|           2|          107|\n",
      "|2009/10|       M Vijay|           1|          127|\n",
      "|   2009|     MK Pandey|           1|          114|\n",
      "|2007/08|   BB McCullum|           1|          158|\n",
      "+-------+--------------+------------+-------------+\n",
      "\n"
     ]
    }
   ],
   "source": [
    "spark.sql('''\n",
    "WITH batsman_runs AS (\n",
    "    SELECT season, \n",
    "        match_id,\n",
    "        striker,\n",
    "        SUM(runs_off_bat) AS total_batsman_run\n",
    "    FROM deliveries\n",
    "    GROUP BY 1,2,3\n",
    ")\n",
    "SELECT season,striker,most_century,highest_score\n",
    "FROM(\n",
    "    SELECT season,\n",
    "        striker,\n",
    "        most_century,\n",
    "        highest_score,\n",
    "        DENSE_RANK() OVER(PARTITION BY season ORDER BY most_century DESC,highest_score DESC) AS rnk\n",
    "    FROM(\n",
    "        SELECT season, \n",
    "                striker,\n",
    "                COUNT(total_batsman_run) AS most_century,\n",
    "                MAX(total_batsman_run) AS highest_score\n",
    "        FROM batsman_runs\n",
    "        WHERE total_batsman_run>=100\n",
    "        GROUP BY 1,2\n",
    "        ORDER BY season DESC\n",
    "        ) A\n",
    "    ) B\n",
    "WHERE rnk=1\n",
    "ORDER BY season DESC\n",
    "\n",
    "''').show()"
   ]
  },
  {
   "cell_type": "markdown",
   "id": "e7211b8b-b406-4eed-9998-b1b9adbd8259",
   "metadata": {},
   "source": [
    "***16. find the player who has highest score along with batsman name and total no. of century in each season of the IPL***"
   ]
  },
  {
   "cell_type": "code",
   "execution_count": 26,
   "id": "47e5239b-e83b-4dec-92ed-4fc8e8e5370e",
   "metadata": {},
   "outputs": [
    {
     "name": "stdout",
     "output_type": "stream",
     "text": [
      "+-------+-------------+-------------+--------------+\n",
      "| season|total_century|highest_score|       striker|\n",
      "+-------+-------------+-------------+--------------+\n",
      "|   2023|           12|          129|  Shubman Gill|\n",
      "|   2022|            8|          140|     Q de Kock|\n",
      "|   2021|            4|          124|    JC Buttler|\n",
      "|2020/21|            5|          132|      KL Rahul|\n",
      "|   2019|            6|          114|   JM Bairstow|\n",
      "|   2018|            5|          128|       RR Pant|\n",
      "|   2017|            5|          126|     DA Warner|\n",
      "|   2016|            7|          129|AB de Villiers|\n",
      "|   2015|            4|          133|AB de Villiers|\n",
      "|   2014|            3|          122|      V Sehwag|\n",
      "|   2013|            4|          175|      CH Gayle|\n",
      "|   2012|            6|          128|      CH Gayle|\n",
      "|   2011|            6|          120|   PC Valthaty|\n",
      "|2009/10|            4|          127|       M Vijay|\n",
      "|   2009|            2|          114|     MK Pandey|\n",
      "|2007/08|            6|          158|   BB McCullum|\n",
      "+-------+-------------+-------------+--------------+\n",
      "\n"
     ]
    }
   ],
   "source": [
    "spark.sql('''\n",
    "WITH batsman_runs AS (\n",
    "    SELECT season, \n",
    "        match_id,\n",
    "        striker,\n",
    "        SUM(runs_off_bat) AS total_batsman_run\n",
    "    FROM deliveries\n",
    "    GROUP BY 1,2,3\n",
    ")\n",
    "SELECT season,\n",
    "    total_century,\n",
    "    highest_score,\n",
    "    striker\n",
    "   \n",
    "FROM(\n",
    "    SELECT *, \n",
    "            COUNT(total_batsman_run) OVER(PARTITION BY season ) AS total_century,\n",
    "            MAX(total_batsman_run) OVER(PARTITION BY season ) AS highest_score,\n",
    "            ROW_NUMBER() OVER(PARTITION BY season ORDER BY total_batsman_run DESC) as rnk\n",
    "    FROM batsman_runs\n",
    "    WHERE total_batsman_run>=100\n",
    "\n",
    "    ) A\n",
    "WHERE rnk=1\n",
    "ORDER BY season DESC\n",
    "\n",
    "''').show()"
   ]
  },
  {
   "cell_type": "markdown",
   "id": "2f9e352b-c548-41fb-80aa-23a69ba5403a",
   "metadata": {},
   "source": [
    "***17. highest & lowest score in each season?***"
   ]
  },
  {
   "cell_type": "code",
   "execution_count": 101,
   "id": "a21401ba-0c8e-46ed-9a43-7117b7e69bcf",
   "metadata": {},
   "outputs": [
    {
     "name": "stdout",
     "output_type": "stream",
     "text": [
      "+-------+-------------+------------+\n",
      "| season|Highest_score|Lowest_score|\n",
      "+-------+-------------+------------+\n",
      "|2007/08|          240|          67|\n",
      "|   2009|          211|          58|\n",
      "|2009/10|          246|          82|\n",
      "|   2011|          232|          56|\n",
      "|   2012|          222|          92|\n",
      "|   2013|          263|          79|\n",
      "|   2014|          231|          70|\n",
      "|   2015|          235|          84|\n",
      "|   2016|          248|          92|\n",
      "|   2017|          230|          49|\n",
      "|   2018|          245|          87|\n",
      "|   2019|          232|          41|\n",
      "|2020/21|          228|          84|\n",
      "|   2021|          235|          85|\n",
      "|   2022|          222|          68|\n",
      "|   2023|          257|          59|\n",
      "+-------+-------------+------------+\n",
      "\n"
     ]
    }
   ],
   "source": [
    "spark.sql('''\n",
    "WITH inning_scores AS (\n",
    "    SELECT season,\n",
    "        match_id,\n",
    "        innings,\n",
    "        SUM(runs_off_bat+extras) AS inning_score\n",
    "    FROM deliveries\n",
    "    WHERE (innings=2 OR innings=1) AND match_id <> 829813 AND\n",
    "        match_id IN(SELECT DISTINCT id\n",
    "                        FROM matches\n",
    "                        WHERE result <> 'D/L')\n",
    "    GROUP BY 1,2,3\n",
    ")\n",
    "SELECT season,\n",
    "    MAX(inning_score) AS Highest_score,\n",
    "    MIN(inning_score) AS Lowest_score\n",
    "FROM inning_scores\n",
    "GROUP BY 1\n",
    "ORDER BY season,Highest_score DESC,Lowest_score\n",
    "''').show()"
   ]
  },
  {
   "cell_type": "markdown",
   "id": "2887644f-0ea6-4f92-959c-6aa507a976cf",
   "metadata": {},
   "source": [
    "***18. Which bowler has best Bowling Average in each season and minimum 10 wickets has taken***"
   ]
  },
  {
   "cell_type": "code",
   "execution_count": 51,
   "id": "dd772a0a-5748-4f45-841f-f17b5868dcc1",
   "metadata": {},
   "outputs": [
    {
     "name": "stdout",
     "output_type": "stream",
     "text": [
      "+-------+---------------+------------+------------+---------------+\n",
      "|season |bowler         |run_conceded|wicket_taken|Bowling Average|\n",
      "+-------+---------------+------------+------------+---------------+\n",
      "|2007/08|Sohail Tanvir  |275         |22          |12.5           |\n",
      "|2009   |RG Sharma      |163         |11          |14.82          |\n",
      "|2009/10|RJ Harris      |239         |14          |17.07          |\n",
      "|2011   |SL Malinga     |393         |28          |14.04          |\n",
      "|2012   |SP Narine      |332         |24          |13.83          |\n",
      "|2013   |JP Faulkner    |436         |28          |15.57          |\n",
      "|2014   |Karanveer Singh|164         |11          |14.91          |\n",
      "|2015   |MC Henriques   |164         |11          |14.91          |\n",
      "|2016   |A Zampa        |117         |12          |9.75           |\n",
      "|2017   |P Negi         |202         |17          |11.88          |\n",
      "|2018   |L Ngidi        |162         |11          |14.73          |\n",
      "|2019   |K Rabada       |382         |26          |14.69          |\n",
      "|2020/21|JJ Bumrah      |436         |29          |15.03          |\n",
      "|2021   |HV Patel       |461         |32          |14.41          |\n",
      "|2022   |Mohsin Khan (2)|202         |14          |14.43          |\n",
      "|2023   |MA Wood        |142         |11          |12.91          |\n",
      "+-------+---------------+------------+------------+---------------+\n",
      "\n"
     ]
    }
   ],
   "source": [
    "spark.sql('''\n",
    "WITH bowling_avg AS(\n",
    "    SELECT season,bowler,\n",
    "        SUM(runs_off_bat+extras) AS run_conceded,\n",
    "        COUNT(CASE WHEN wicket_type NOT IN( 'run out','retired out','obstructing the field') THEN player_dismissed ELSE NULL END) AS wicket_taken,\n",
    "        ROUND(run_conceded/wicket_taken,2) AS `Bowling Average`\n",
    "    FROM deliveries \n",
    "    WHERE penalty IS NULL \n",
    "    GROUP BY 1,2\n",
    "    HAVING wicket_taken>=10\n",
    "    ORDER BY season DESC,`Bowling Average`\n",
    "    )\n",
    "SELECT season,bowler,run_conceded,wicket_taken,`Bowling Average`\n",
    "FROM(\n",
    "    SELECT *,\n",
    "        ROW_NUMBER() OVER(PARTITION BY season ORDER BY `Bowling Average`) AS rnk \n",
    "    FROM bowling_avg\n",
    "    ) A\n",
    "WHERE rnk=1\n",
    "''').show(truncate=False)"
   ]
  },
  {
   "cell_type": "markdown",
   "id": "bdfdbf36-72ce-49ad-8f14-21592e564953",
   "metadata": {},
   "source": [
    "***19. Which bowler has best Strike Rate in each season and minimum 10 wickets has taken***"
   ]
  },
  {
   "cell_type": "code",
   "execution_count": 53,
   "id": "51d8c3fa-591a-44ea-bab8-e8f8b0d64f4c",
   "metadata": {},
   "outputs": [
    {
     "name": "stdout",
     "output_type": "stream",
     "text": [
      "+-------+---------------+-----------+------------+-----------+\n",
      "|season |bowler         |ball_bowled|wicket_taken|Strike Rate|\n",
      "+-------+---------------+-----------+------------+-----------+\n",
      "|2007/08|A Mishra       |123        |11          |11.18      |\n",
      "|2009   |RG Sharma      |140        |11          |12.73      |\n",
      "|2009/10|RJ Harris      |195        |14          |13.93      |\n",
      "|2011   |S Aravind      |288        |21          |13.71      |\n",
      "|2012   |SP Narine      |357        |24          |14.88      |\n",
      "|2013   |DJ Bravo       |392        |32          |12.25      |\n",
      "|2014   |Karanveer Singh|126        |11          |11.45      |\n",
      "|2015   |YS Chahal      |283        |23          |12.3       |\n",
      "|2016   |A Zampa        |103        |12          |8.58       |\n",
      "|2017   |AJ Tye         |128        |12          |10.67      |\n",
      "|2018   |AJ Tye         |353        |24          |14.71      |\n",
      "|2019   |K Rabada       |298        |26          |11.46      |\n",
      "|2020/21|JO Holder      |176        |14          |12.57      |\n",
      "|2021   |AD Russell     |122        |11          |11.09      |\n",
      "|2022   |AD Russell     |176        |17          |10.35      |\n",
      "|2023   |MA Wood        |102        |11          |9.27       |\n",
      "+-------+---------------+-----------+------------+-----------+\n",
      "\n"
     ]
    }
   ],
   "source": [
    "spark.sql('''\n",
    "WITH strike_rate AS(\n",
    "    SELECT season,bowler,\n",
    "        COUNT(ball) AS ball_bowled,\n",
    "        COUNT(CASE WHEN wicket_type NOT IN( 'run out','retired out','obstructing the field') THEN player_dismissed ELSE NULL END) AS wicket_taken,\n",
    "        ROUND(ball_bowled/wicket_taken,2) AS `Strike Rate`\n",
    "    FROM deliveries \n",
    "    WHERE penalty IS NULL \n",
    "    GROUP BY 1,2\n",
    "    HAVING wicket_taken>=10\n",
    "  \n",
    "    )\n",
    "SELECT season,bowler,ball_bowled,wicket_taken,`Strike Rate`\n",
    "FROM(\n",
    "    SELECT *,\n",
    "        ROW_NUMBER() OVER(PARTITION BY season ORDER BY `Strike Rate`) AS rnk \n",
    "    FROM strike_rate\n",
    "    ) A\n",
    "WHERE rnk=1\n",
    "''').show(truncate=False)"
   ]
  },
  {
   "cell_type": "markdown",
   "id": "37ed4f35-b1c0-44cc-8f05-c08ea081cd36",
   "metadata": {},
   "source": [
    "***20. Which bowler has best Economy Rate in each season and minimum 20 OVERS has thrown***"
   ]
  },
  {
   "cell_type": "code",
   "execution_count": 75,
   "id": "5a5ccd60-7e30-46c6-9f90-2cf3c1d710ad",
   "metadata": {},
   "outputs": [
    {
     "name": "stdout",
     "output_type": "stream",
     "text": [
      "+-------+-----------------+-----------------+----------+------------+\n",
      "|season |bowler           |total_over_bowled|total_runs|Economy Rate|\n",
      "+-------+-----------------+-----------------+----------+------------+\n",
      "|2007/08|Sohail Tanvir    |42               |275       |6.55        |\n",
      "|2009   |M Muralitharan   |50               |267       |5.34        |\n",
      "|2009/10|R Ashwin         |48               |308       |6.42        |\n",
      "|2011   |R Sharma         |50               |278       |5.56        |\n",
      "|2012   |SP Narine        |60               |332       |5.53        |\n",
      "|2013   |SP Narine        |64               |353       |5.52        |\n",
      "|2014   |AR Patel         |66               |424       |6.42        |\n",
      "|2015   |R Ashwin         |39               |229       |5.87        |\n",
      "|2016   |Mustafizur Rahman|61               |427       |7.0         |\n",
      "|2017   |P Negi           |33               |202       |6.12        |\n",
      "|2018   |IS Sodhi         |23               |137       |5.96        |\n",
      "|2019   |RA Jadeja        |54               |347       |6.43        |\n",
      "|2020/21|Rashid Khan      |65               |355       |5.46        |\n",
      "|2021   |Harpreet Brar    |23               |142       |6.17        |\n",
      "|2022   |SP Narine        |56               |319       |5.7         |\n",
      "|2023   |AR Patel         |47               |344       |7.32        |\n",
      "+-------+-----------------+-----------------+----------+------------+\n",
      "\n"
     ]
    }
   ],
   "source": [
    "spark.sql('''\n",
    "WITH economy_rate AS(\n",
    "        SELECT season,\n",
    "            match_id,\n",
    "            bowler,\n",
    "            COUNT(DISTINCT over) AS over_bowled,\n",
    "            SUM(runs_off_bat+extras) AS run_conceded\n",
    "            \n",
    "        FROM(\n",
    "            SELECT *,\n",
    "                CAST(ball AS int) AS over \n",
    "            FROM deliveries\n",
    "            ) \n",
    "        WHERE penalty IS NULL \n",
    "        GROUP BY 1,2,3\n",
    "        ),\n",
    "    total_bowled_overs AS(\n",
    "        SELECT season,\n",
    "            bowler,\n",
    "            SUM(over_bowled) AS total_over_bowled,\n",
    "            SUM(run_conceded) AS total_runs,\n",
    "            ROUND(total_runs/total_over_bowled,2) AS `Economy Rate`\n",
    "        FROM economy_rate\n",
    "        GROUP BY 1,2\n",
    "        HAVING total_over_bowled>=20\n",
    "        )\n",
    "    \n",
    "\n",
    "SELECT season,bowler,total_over_bowled,total_runs,`Economy Rate`\n",
    "FROM(\n",
    "    SELECT *,\n",
    "        ROW_NUMBER() OVER(PARTITION BY season ORDER BY `Economy Rate`) AS rnk \n",
    "    FROM total_bowled_overs\n",
    "    ) A\n",
    "WHERE rnk=1\n",
    "''').show(truncate=False)"
   ]
  },
  {
   "cell_type": "markdown",
   "id": "e00234d6-801b-4d1c-8f48-69a55101b06f",
   "metadata": {},
   "source": [
    "***21.Which Batsman has hit maximum sixes and fours?***\n"
   ]
  },
  {
   "cell_type": "code",
   "execution_count": 11,
   "id": "b61e4935-1084-41cb-ab08-19653fccffc0",
   "metadata": {},
   "outputs": [
    {
     "name": "stdout",
     "output_type": "stream",
     "text": [
      "+--------+-----+\n",
      "|striker |sixes|\n",
      "+--------+-----+\n",
      "|CH Gayle|359  |\n",
      "+--------+-----+\n",
      "\n"
     ]
    }
   ],
   "source": [
    "spark.sql('''\n",
    "SELECT striker,\n",
    "    SUM(CASE WHEN runs_off_bat=6 THEN 1 ELSE 0 END) as sixes\n",
    "FROM deliveries\n",
    "GROUP BY 1\n",
    "ORDER BY sixes DESC\n",
    "LIMIT 1\n",
    "''').show(truncate=False)"
   ]
  },
  {
   "cell_type": "code",
   "execution_count": 12,
   "id": "a9940dd5-2366-4406-817f-cb62fee4e26b",
   "metadata": {},
   "outputs": [
    {
     "name": "stdout",
     "output_type": "stream",
     "text": [
      "+--------+-----+\n",
      "|striker |Fours|\n",
      "+--------+-----+\n",
      "|S Dhawan|750  |\n",
      "+--------+-----+\n",
      "\n"
     ]
    }
   ],
   "source": [
    "spark.sql('''\n",
    "SELECT striker,\n",
    "    SUM(CASE WHEN runs_off_bat=4 THEN 1 ELSE 0 END) as Fours\n",
    "FROM deliveries\n",
    "GROUP BY 1\n",
    "ORDER BY fours DESC\n",
    "LIMIT 1\n",
    "''').show(truncate=False)"
   ]
  },
  {
   "cell_type": "markdown",
   "id": "af708620-2889-4a57-a89c-8e6b80fdeff1",
   "metadata": {},
   "source": [
    "***22. Calculate the average runs scored by each team in each season.***"
   ]
  },
  {
   "cell_type": "code",
   "execution_count": 57,
   "id": "ad417e18-4f26-487a-aaf1-6c43b0e842dd",
   "metadata": {},
   "outputs": [
    {
     "name": "stdout",
     "output_type": "stream",
     "text": [
      "+------+---------------------------+------------+\n",
      "|season|team                       |average_runs|\n",
      "+------+---------------------------+------------+\n",
      "|2023  |Mumbai Indians             |184.06      |\n",
      "|2023  |Punjab Kings               |182.57      |\n",
      "|2023  |Chennai Super Kings        |180.8       |\n",
      "|2023  |Gujarat Titans             |179.65      |\n",
      "|2023  |Royal Challengers Bangalore|178.71      |\n",
      "|2023  |Kolkata Knight Riders      |175.93      |\n",
      "|2023  |Rajasthan Royals           |172.79      |\n",
      "|2023  |Sunrisers Hyderabad        |169.71      |\n",
      "|2023  |Lucknow Super Giants       |165.27      |\n",
      "|2023  |Delhi Capitals             |155.86      |\n",
      "|2022  |Rajasthan Royals           |173.12      |\n",
      "|2022  |Lucknow Super Giants       |169.87      |\n",
      "|2022  |Punjab Kings               |167.36      |\n",
      "|2022  |Delhi Capitals             |167.21      |\n",
      "|2022  |Gujarat Titans             |166.44      |\n",
      "|2022  |Royal Challengers Bangalore|164.5       |\n",
      "|2022  |Chennai Super Kings        |163.43      |\n",
      "|2022  |Kolkata Knight Riders      |158.79      |\n",
      "|2022  |Mumbai Indians             |158.36      |\n",
      "|2022  |Sunrisers Hyderabad        |156.93      |\n",
      "+------+---------------------------+------------+\n",
      "only showing top 20 rows\n",
      "\n"
     ]
    }
   ],
   "source": [
    "spark.sql('''\n",
    "WITH team_scores AS(\n",
    "    SELECT season,\n",
    "        match_id,\n",
    "        batting_team AS team,\n",
    "        SUM(runs_off_bat+extras) as run_scored\n",
    "    FROM deliveries\n",
    "    GROUP BY 1,2,3\n",
    "    ORDER BY season DESC,match_id desc\n",
    ")\n",
    "SELECT season,team,\n",
    "    ROUND(AVG(run_scored),2) AS average_runs\n",
    "FROM team_scores\n",
    "GROUP BY season,team\n",
    "ORDER BY season DESC,average_runs DESC\n",
    "''').show(truncate=False)"
   ]
  },
  {
   "cell_type": "markdown",
   "id": "60b631cb-5358-4d2d-bed0-62a37b150903",
   "metadata": {},
   "source": [
    "***23. Calculate the total number of runs scored by each team in the powerplay (first 6 overs) in each season.***"
   ]
  },
  {
   "cell_type": "code",
   "execution_count": 61,
   "id": "7bd3f1c8-8bdf-4b43-8713-f1286081116f",
   "metadata": {},
   "outputs": [
    {
     "name": "stdout",
     "output_type": "stream",
     "text": [
      "+------+---------------------------+-----------------------+\n",
      "|season|team                       |total_runs_in_powerplay|\n",
      "+------+---------------------------+-----------------------+\n",
      "|2023  |Gujarat Titans             |888                    |\n",
      "|2023  |Mumbai Indians             |887                    |\n",
      "|2023  |Chennai Super Kings        |843                    |\n",
      "|2023  |Rajasthan Royals           |790                    |\n",
      "|2023  |Royal Challengers Bangalore|777                    |\n",
      "|2023  |Punjab Kings               |730                    |\n",
      "|2023  |Lucknow Super Giants       |715                    |\n",
      "|2023  |Kolkata Knight Riders      |700                    |\n",
      "|2023  |Delhi Capitals             |692                    |\n",
      "|2023  |Sunrisers Hyderabad        |665                    |\n",
      "|2022  |Rajasthan Royals           |854                    |\n",
      "|2022  |Punjab Kings               |773                    |\n",
      "|2022  |Delhi Capitals             |758                    |\n",
      "|2022  |Gujarat Titans             |740                    |\n",
      "|2022  |Royal Challengers Bangalore|696                    |\n",
      "|2022  |Lucknow Super Giants       |670                    |\n",
      "|2022  |Chennai Super Kings        |630                    |\n",
      "|2022  |Mumbai Indians             |626                    |\n",
      "|2022  |Kolkata Knight Riders      |610                    |\n",
      "|2022  |Sunrisers Hyderabad        |590                    |\n",
      "+------+---------------------------+-----------------------+\n",
      "only showing top 20 rows\n",
      "\n"
     ]
    }
   ],
   "source": [
    "spark.sql('''\n",
    "WITH PowerPlay AS(\n",
    "     SELECT season,\n",
    "        match_id,\n",
    "        batting_team AS team,\n",
    "        SUM(runs_off_bat+extras) AS powerplay_runs\n",
    "        \n",
    "    FROM(\n",
    "        SELECT *,\n",
    "            CAST(ball AS int) AS over \n",
    "        FROM deliveries\n",
    "        ) \n",
    "    WHERE penalty IS NULL AND over<=5\n",
    "    GROUP BY 1,2,3\n",
    ")  \n",
    "SELECT season,team,SUM(powerplay_runs) AS total_runs_in_powerplay\n",
    "FROM PowerPlay\n",
    "GROUP BY season,team\n",
    "ORDER BY season DESC,total_runs_in_powerplay DESC\n",
    "''').show(truncate=False)"
   ]
  },
  {
   "cell_type": "markdown",
   "id": "ee3007c3-317c-4bd8-94da-0146ad6a09da",
   "metadata": {},
   "source": [
    "***23. Which team has most of runs scored in the powerplay (first 6 overs) in each season.***"
   ]
  },
  {
   "cell_type": "code",
   "execution_count": 13,
   "id": "539376a8-a087-4433-beb4-f13f0a1bc2c2",
   "metadata": {},
   "outputs": [
    {
     "name": "stdout",
     "output_type": "stream",
     "text": [
      "+-------+---------------------------+--------------+\n",
      "|season |team                       |powerplay_runs|\n",
      "+-------+---------------------------+--------------+\n",
      "|2023   |Rajasthan Royals           |85            |\n",
      "|2022   |Punjab Kings               |83            |\n",
      "|2021   |Mumbai Indians             |83            |\n",
      "|2020/21|Sunrisers Hyderabad        |77            |\n",
      "|2019   |Sunrisers Hyderabad        |77            |\n",
      "|2018   |Mumbai Indians             |84            |\n",
      "|2017   |Kolkata Knight Riders      |105           |\n",
      "|2016   |Gujarat Lions              |72            |\n",
      "|2015   |Chennai Super Kings        |90            |\n",
      "|2014   |Chennai Super Kings        |100           |\n",
      "|2013   |Royal Challengers Bangalore|76            |\n",
      "|2012   |Kolkata Knight Riders      |68            |\n",
      "|2011   |Kochi Tuskers Kerala       |87            |\n",
      "|2009/10|Kings XI Punjab            |76            |\n",
      "|2009   |Deccan Chargers            |84            |\n",
      "|2007/08|Mumbai Indians             |78            |\n",
      "+-------+---------------------------+--------------+\n",
      "\n"
     ]
    }
   ],
   "source": [
    "spark.sql('''\n",
    "WITH PowerPlay AS(\n",
    "     SELECT season,\n",
    "        match_id,\n",
    "        batting_team AS team,\n",
    "        SUM(runs_off_bat+extras) AS powerplay_runs\n",
    "        \n",
    "    FROM(\n",
    "        SELECT *,\n",
    "            CAST(ball AS int) AS over \n",
    "        FROM deliveries\n",
    "        ) \n",
    "    WHERE penalty IS NULL AND over<=5\n",
    "    GROUP BY 1,2,3\n",
    ")  \n",
    "SELECT season,team,powerplay_runs\n",
    "FROM(\n",
    "    SELECT season,\n",
    "        team,\n",
    "        powerplay_runs,\n",
    "        ROW_NUMBER() OVER(PARTITION BY season ORDER BY powerplay_runs DESC) AS rnk\n",
    "    FROM PowerPlay\n",
    "    ORDER BY  season DESC\n",
    "    )\n",
    "WHERE rnk=1\n",
    "''').show(truncate=False)"
   ]
  },
  {
   "cell_type": "markdown",
   "id": "a8a8aaa2-add9-4fa2-b15a-fe37366a9ed3",
   "metadata": {},
   "source": [
    "***24. Which team has 100+ runs scored in the powerplay (first 6 overs) in each season.***"
   ]
  },
  {
   "cell_type": "code",
   "execution_count": 68,
   "id": "66493650-88fa-4a6b-b8f3-61bd68ed37f5",
   "metadata": {},
   "outputs": [
    {
     "name": "stdout",
     "output_type": "stream",
     "text": [
      "+------+---------------------+--------------+\n",
      "|season|team                 |powerplay_runs|\n",
      "+------+---------------------+--------------+\n",
      "|2017  |Kolkata Knight Riders|105           |\n",
      "|2014  |Chennai Super Kings  |100           |\n",
      "+------+---------------------+--------------+\n",
      "\n"
     ]
    }
   ],
   "source": [
    "spark.sql('''\n",
    "WITH PowerPlay AS(\n",
    "     SELECT season,\n",
    "        match_id,\n",
    "        batting_team AS team,\n",
    "        SUM(runs_off_bat+extras) AS powerplay_runs\n",
    "        \n",
    "    FROM(\n",
    "        SELECT *,\n",
    "            CAST(ball AS int) AS over \n",
    "        FROM deliveries\n",
    "        ) \n",
    "    WHERE penalty IS NULL AND over<=5\n",
    "    GROUP BY 1,2,3\n",
    ")  \n",
    "SELECT season,team,powerplay_runs\n",
    "FROM(\n",
    "    SELECT season,\n",
    "        team,\n",
    "        powerplay_runs\n",
    "    FROM PowerPlay\n",
    "    WHERE powerplay_runs>=100\n",
    "    ORDER BY  season DESC\n",
    "    )\n",
    "''').show(truncate=False)"
   ]
  },
  {
   "cell_type": "markdown",
   "id": "a5065f07-d83a-4591-b51b-a197b2a6d395",
   "metadata": {},
   "source": [
    "***25. Which team has 100+ runs scored in the death overs (first 6 overs) in each season.***"
   ]
  },
  {
   "cell_type": "code",
   "execution_count": 76,
   "id": "936553f6-1a28-449d-a715-45cabfd4d9b9",
   "metadata": {},
   "outputs": [
    {
     "name": "stdout",
     "output_type": "stream",
     "text": [
      "+------+---------------------------+----------------+\n",
      "|season|team                       |death_overs_runs|\n",
      "+------+---------------------------+----------------+\n",
      "|2016  |Royal Challengers Bangalore|112             |\n",
      "+------+---------------------------+----------------+\n",
      "\n"
     ]
    }
   ],
   "source": [
    "spark.sql('''\n",
    "WITH DeathOver AS(\n",
    "     SELECT season,\n",
    "        match_id,\n",
    "        batting_team AS team,\n",
    "        SUM(runs_off_bat+extras) AS death_overs_runs\n",
    "        \n",
    "    FROM(\n",
    "        SELECT *,\n",
    "            CAST(ball AS int) AS over \n",
    "        FROM deliveries\n",
    "        ) \n",
    "    WHERE penalty IS NULL AND over BETWEEN 15 AND 20\n",
    "    GROUP BY 1,2,3\n",
    ")  \n",
    "SELECT season,team,death_overs_runs\n",
    "FROM(\n",
    "    SELECT season,\n",
    "        team,\n",
    "        death_overs_runs\n",
    "    FROM DeathOver\n",
    "    WHERE death_overs_runs>=100\n",
    "    ORDER BY  season DESC\n",
    "    )\n",
    "''').show(truncate=False)"
   ]
  },
  {
   "cell_type": "markdown",
   "id": "714cac8c-e489-4434-9f4e-55de6252ed22",
   "metadata": {},
   "source": [
    "***26. Find the team that has won the most matches by a margin of more than 50 runs.***"
   ]
  },
  {
   "cell_type": "code",
   "execution_count": 79,
   "id": "50efb6a0-677f-4db5-a673-c26802087ef0",
   "metadata": {},
   "outputs": [
    {
     "name": "stdout",
     "output_type": "stream",
     "text": [
      "+---------------------------+----------------+\n",
      "|winner                     |most_won_matches|\n",
      "+---------------------------+----------------+\n",
      "|Chennai Super Kings        |16              |\n",
      "|Mumbai Indians             |13              |\n",
      "|Royal Challengers Bangalore|11              |\n",
      "|Rajasthan Royals           |10              |\n",
      "|Kolkata Knight Riders      |9               |\n",
      "|Kings XI Punjab            |6               |\n",
      "|Sunrisers Hyderabad        |4               |\n",
      "|Gujarat Titans             |4               |\n",
      "|Delhi Daredevils           |4               |\n",
      "|Lucknow Super Giants       |3               |\n",
      "|Deccan Chargers            |3               |\n",
      "|Punjab Kings               |2               |\n",
      "|Rising Pune Supergiant     |1               |\n",
      "|Delhi Capitals             |1               |\n",
      "+---------------------------+----------------+\n",
      "\n"
     ]
    }
   ],
   "source": [
    "spark.sql('''\n",
    "SELECT winner,\n",
    "    COUNT(id) AS most_won_matches\n",
    "FROM matches\n",
    "WHERE win_by_runs>=50\n",
    "GROUP BY winner\n",
    "ORDER BY most_won_matches DESC\n",
    "''').show(truncate=False)"
   ]
  },
  {
   "cell_type": "markdown",
   "id": "36b1d917-3a0c-4bbf-bd8e-e292c5b18c20",
   "metadata": {},
   "source": [
    "***27. Calculate the total number of sixes hit by each team in each season.***"
   ]
  },
  {
   "cell_type": "code",
   "execution_count": 82,
   "id": "88560809-ef82-4170-ae01-92f5b996a338",
   "metadata": {},
   "outputs": [
    {
     "name": "stdout",
     "output_type": "stream",
     "text": [
      "+------+---------------------------+-----+\n",
      "|season|batting_team               |sixes|\n",
      "+------+---------------------------+-----+\n",
      "|2023  |Mumbai Indians             |140  |\n",
      "|2023  |Chennai Super Kings        |133  |\n",
      "|2023  |Kolkata Knight Riders      |125  |\n",
      "|2023  |Gujarat Titans             |124  |\n",
      "|2023  |Punjab Kings               |117  |\n",
      "|2023  |Lucknow Super Giants       |115  |\n",
      "|2023  |Rajasthan Royals           |112  |\n",
      "|2023  |Royal Challengers Bangalore|107  |\n",
      "|2023  |Sunrisers Hyderabad        |84   |\n",
      "|2023  |Delhi Capitals             |67   |\n",
      "|2022  |Rajasthan Royals           |137  |\n",
      "|2022  |Lucknow Super Giants       |115  |\n",
      "|2022  |Kolkata Knight Riders      |113  |\n",
      "|2022  |Punjab Kings               |110  |\n",
      "|2022  |Delhi Capitals             |106  |\n",
      "|2022  |Chennai Super Kings        |103  |\n",
      "|2022  |Royal Challengers Bangalore|102  |\n",
      "|2022  |Mumbai Indians             |100  |\n",
      "|2022  |Sunrisers Hyderabad        |97   |\n",
      "|2022  |Gujarat Titans             |79   |\n",
      "+------+---------------------------+-----+\n",
      "only showing top 20 rows\n",
      "\n"
     ]
    }
   ],
   "source": [
    "spark.sql('''\n",
    "SELECT season,\n",
    "    batting_team,\n",
    "    SUM(CASE WHEN runs_off_bat=6 THEN 1 ELSE 0 END) as sixes\n",
    "FROM deliveries\n",
    "GROUP BY 1,2\n",
    "ORDER BY season DESC,sixes DESC\n",
    "''').show(truncate=False)"
   ]
  },
  {
   "cell_type": "markdown",
   "id": "9875b824-05bd-4b04-b2b1-5bddea6b798f",
   "metadata": {},
   "source": [
    "***28. Identify the venue that has hosted the most number of matches, and the average runs scored at that venue.***"
   ]
  },
  {
   "cell_type": "code",
   "execution_count": 50,
   "id": "c91600a4-5eea-47ba-8e01-858e9767b123",
   "metadata": {},
   "outputs": [
    {
     "name": "stdout",
     "output_type": "stream",
     "text": [
      "+------------------------------------------+------------+------------+\n",
      "|venue                                     |most_matches|average_runs|\n",
      "+------------------------------------------+------------+------------+\n",
      "|Eden Gardens                              |77          |153.62      |\n",
      "|Wankhede Stadium                          |73          |160.21      |\n",
      "|M Chinnaswamy Stadium                     |65          |156.88      |\n",
      "|Feroz Shah Kotla                          |60          |154.8       |\n",
      "|Rajiv Gandhi International Stadium, Uppal |49          |151.56      |\n",
      "|MA Chidambaram Stadium, Chepauk           |48          |158.94      |\n",
      "|Sawai Mansingh Stadium                    |47          |151.74      |\n",
      "|Dubai International Cricket Stadium       |46          |156.42      |\n",
      "|Wankhede Stadium, Mumbai                  |38          |171.55      |\n",
      "|Punjab Cricket Association Stadium, Mohali|35          |156.96      |\n",
      "|Sheikh Zayed Stadium                      |29          |152.24      |\n",
      "|Sharjah Cricket Stadium                   |28          |153.27      |\n",
      "|Maharashtra Cricket Association Stadium   |22          |159.25      |\n",
      "|Dr DY Patil Sports Academy, Mumbai        |20          |164.33      |\n",
      "|MA Chidambaram Stadium, Chepauk, Chennai  |19          |156.68      |\n",
      "|Brabourne Stadium, Mumbai                 |17          |171.29      |\n",
      "|Dr DY Patil Sports Academy                |17          |141.47      |\n",
      "|Narendra Modi Stadium, Ahmedabad          |16          |169.0       |\n",
      "|Subrata Roy Sahara Stadium                |16          |141.5       |\n",
      "|M.Chinnaswamy Stadium                     |15          |170.9       |\n",
      "+------------------------------------------+------------+------------+\n",
      "only showing top 20 rows\n",
      "\n"
     ]
    }
   ],
   "source": [
    "spark.sql('''\n",
    "WITH MostMatches AS (\n",
    "        SELECT venue,\n",
    "            SUM(most_number_of_matches) AS most_matches\n",
    "        FROM(\n",
    "            SELECT venue,\n",
    "                match_id,\n",
    "                COUNT(DISTINCT match_id) AS most_number_of_matches\n",
    "            FROM deliveries\n",
    "            GROUP BY venue,match_id\n",
    "            ORDER BY most_number_of_matches DESC\n",
    "            )\n",
    "        GROUP BY venue\n",
    "        ORDER BY most_matches DESC\n",
    "            ),\n",
    "    AverageRuns AS (\n",
    "        SELECT venue,ROUND(AVG(total_runs),2) AS average_runs\n",
    "        FROM(\n",
    "            SELECT venue,\n",
    "                match_id,\n",
    "                innings,\n",
    "                SUM(runs_off_bat + extras) AS total_runs\n",
    "            FROM deliveries\n",
    "            WHERE innings =1 OR innings=2\n",
    "            GROUP BY venue,match_id,innings\n",
    "            ORDER BY venue,match_id,innings\n",
    "            )\n",
    "        GROUP BY venue\n",
    "        ORDER BY average_runs DESC\n",
    "        )\n",
    "SELECT m.venue,m.most_matches,a.average_runs\n",
    "FROM MostMatches m\n",
    "JOIN AverageRuns a ON m.venue=a.venue\n",
    "ORDER BY most_matches DESC\n",
    "''').show(truncate=False)"
   ]
  },
  {
   "cell_type": "markdown",
   "id": "e5c3be35-e6bf-4ac7-9f74-f504a548e380",
   "metadata": {},
   "source": [
    "***29. Top 10 plyaers has won the \"Player of the Match\" awards in IPL history***"
   ]
  },
  {
   "cell_type": "code",
   "execution_count": 58,
   "id": "408df053-62ce-455d-8454-0c44aebed4a8",
   "metadata": {},
   "outputs": [
    {
     "name": "stdout",
     "output_type": "stream",
     "text": [
      "+---------------+--------+\n",
      "|player_of_match|Most_POM|\n",
      "+---------------+--------+\n",
      "|AB de Villiers |25      |\n",
      "|CH Gayle       |22      |\n",
      "|RG Sharma      |19      |\n",
      "|DA Warner      |18      |\n",
      "|MS Dhoni       |17      |\n",
      "|YK Pathan      |16      |\n",
      "|SR Watson      |16      |\n",
      "|V Kohli        |16      |\n",
      "|KA Pollard     |14      |\n",
      "|SK Raina       |14      |\n",
      "+---------------+--------+\n",
      "\n"
     ]
    }
   ],
   "source": [
    "spark.sql('''\n",
    "SELECT player_of_match,\n",
    "    COUNT(DISTINCT id) AS Most_POM\n",
    "FROM matches\n",
    "GROUP BY player_of_match\n",
    "ORDER BY Most_POM DESC\n",
    "LIMIT 10\n",
    "''').show(truncate=False)"
   ]
  },
  {
   "cell_type": "markdown",
   "id": "49366f1a-9749-4f7a-bdaf-324ef3e44857",
   "metadata": {},
   "source": [
    "***30. Which team has the best record in super overs?***"
   ]
  },
  {
   "cell_type": "code",
   "execution_count": 62,
   "id": "37455bf3-ef73-4e4a-bc8c-14694f98400d",
   "metadata": {},
   "outputs": [
    {
     "name": "stdout",
     "output_type": "stream",
     "text": [
      "+-------+-------+---------+----------+---------------------------+---------------------------+---------------------------+-------------+------+----------+------+-----------+--------------+---------------+-----------------------------------------+------------+---------------------+--------------+\n",
      "|id     |season |city     |date      |team1                      |team2                      |toss_winner                |toss_decision|result|dl_applied|winner|win_by_runs|win_by_wickets|player_of_match|venue                                    |umpire1     |umpire2              |umpire3       |\n",
      "+-------+-------+---------+----------+---------------------------+---------------------------+---------------------------+-------------+------+----------+------+-----------+--------------+---------------+-----------------------------------------+------------+---------------------+--------------+\n",
      "|1254077|2021   |Chennai  |2021/04/25|Delhi Capitals             |Sunrisers Hyderabad        |Delhi Capitals             |bat          |normal|0         |NULL  |0          |0             |PP Shaw        |MA Chidambaram Stadium, Chepauk, Chennai |CB Gaffaney |KN Ananthapadmanabhan|Tapan Sharma  |\n",
      "|1216517|2020/21|NULL     |2020/10/18|Mumbai Indians             |Kings XI Punjab            |Mumbai Indians             |bat          |normal|0         |NULL  |0          |0             |KL Rahul       |Dubai International Cricket Stadium      |Nitin Menon |PR Reiffel           |AK Chaudhary  |\n",
      "|1216512|2020/21|Abu Dhabi|2020/10/18|Kolkata Knight Riders      |Sunrisers Hyderabad        |Sunrisers Hyderabad        |field        |normal|0         |NULL  |0          |0             |LH Ferguson    |Sheikh Zayed Stadium                     |PG Pathak   |S Ravi               |VK Sharma     |\n",
      "|1216547|2020/21|NULL     |2020/09/28|Royal Challengers Bangalore|Mumbai Indians             |Mumbai Indians             |field        |normal|0         |NULL  |0          |0             |AB de Villiers |Dubai International Cricket Stadium      |Nitin Menon |PR Reiffel           |AK Chaudhary  |\n",
      "|1216493|2020/21|NULL     |2020/09/20|Delhi Capitals             |Kings XI Punjab            |Kings XI Punjab            |field        |normal|0         |NULL  |0          |0             |MP Stoinis     |Dubai International Cricket Stadium      |AK Chaudhary|Nitin Menon          |PR Reiffel    |\n",
      "|1178426|2019   |Mumbai   |2019/05/02|Mumbai Indians             |Sunrisers Hyderabad        |Mumbai Indians             |bat          |normal|0         |NULL  |0          |0             |JJ Bumrah      |Wankhede Stadium                         |CK Nandan   |S Ravi               |A Nand Kishore|\n",
      "|1175365|2019   |Delhi    |2019/03/30|Kolkata Knight Riders      |Delhi Capitals             |Delhi Capitals             |field        |normal|0         |NULL  |0          |0             |PP Shaw        |Arun Jaitley Stadium                     |AY Dandekar |Nitin Menon          |M Erasmus     |\n",
      "|1082625|2017   |Rajkot   |2017/04/29|Gujarat Lions              |Mumbai Indians             |Gujarat Lions              |bat          |normal|0         |NULL  |0          |0             |KH Pandya      |Saurashtra Cricket Association Stadium   |AK Chaudhary|CB Gaffaney          |A Nand Kishore|\n",
      "|829741 |2015   |Ahmedabad|2015/04/21|Rajasthan Royals           |Kings XI Punjab            |Kings XI Punjab            |field        |normal|0         |NULL  |0          |0             |SE Marsh       |Sardar Patel Stadium, Motera             |M Erasmus   |S Ravi               |AK Chaudhary  |\n",
      "|729315 |2014   |Abu Dhabi|2014/04/29|Kolkata Knight Riders      |Rajasthan Royals           |Rajasthan Royals           |bat          |normal|0         |NULL  |0          |0             |JP Faulkner    |Sheikh Zayed Stadium                     |Aleem Dar   |AK Chaudhary         |VA Kulkarni   |\n",
      "|598017 |2013   |Bangalore|2013/04/16|Royal Challengers Bangalore|Delhi Daredevils           |Royal Challengers Bangalore|field        |normal|0         |NULL  |0          |0             |V Kohli        |M Chinnaswamy Stadium                    |M Erasmus   |VA Kulkarni          |K Srinath     |\n",
      "|598004 |2013   |Hyderabad|2013/04/07|Sunrisers Hyderabad        |Royal Challengers Bangalore|Royal Challengers Bangalore|bat          |normal|0         |NULL  |0          |0             |GH Vihari      |Rajiv Gandhi International Stadium, Uppal|AK Chaudhary|S Ravi               |K Srinath     |\n",
      "|419121 |2009/10|Chennai  |2010/03/21|Chennai Super Kings        |Kings XI Punjab            |Chennai Super Kings        |field        |normal|0         |NULL  |0          |0             |J Theron       |MA Chidambaram Stadium, Chepauk          |K Hariharan |DJ Harper            |S Das         |\n",
      "|392190 |2009   |Cape Town|2009/04/23|Kolkata Knight Riders      |Rajasthan Royals           |Kolkata Knight Riders      |field        |normal|0         |NULL  |0          |0             |YK Pathan      |Newlands                                 |MR Benson   |M Erasmus            |AM Saheba     |\n",
      "+-------+-------+---------+----------+---------------------------+---------------------------+---------------------------+-------------+------+----------+------+-----------+--------------+---------------+-----------------------------------------+------------+---------------------+--------------+\n",
      "\n"
     ]
    }
   ],
   "source": [
    "spark.sql('''\n",
    "SELECT *\n",
    "FROM matches\n",
    "WHERE id IN(\n",
    "    SELECT DISTINCT match_id\n",
    "    FROM deliveries\n",
    "    WHERE innings>2\n",
    "    )\n",
    "''').show(truncate=False)"
   ]
  },
  {
   "cell_type": "markdown",
   "id": "a096a83c-c051-48d1-8530-0d35a1da83d1",
   "metadata": {},
   "source": [
    "***31. Which team has the most number of hat-tricks in IPL history?***"
   ]
  },
  {
   "cell_type": "code",
   "execution_count": 18,
   "id": "3e03babb-5f54-4cb9-baa9-8260709b8893",
   "metadata": {},
   "outputs": [
    {
     "name": "stdout",
     "output_type": "stream",
     "text": [
      "+-----------------+---------------+\n",
      "|bowler           |total_hat_ricks|\n",
      "+-----------------+---------------+\n",
      "|A Mishra         |4              |\n",
      "|Yuvraj Singh     |2              |\n",
      "|MM Sharma        |2              |\n",
      "|AR Patel         |1              |\n",
      "|HV Patel         |1              |\n",
      "|RG Sharma        |1              |\n",
      "|SK Trivedi       |1              |\n",
      "|B Kumar          |1              |\n",
      "|JD Unadkat       |1              |\n",
      "|A Chandila       |1              |\n",
      "|SM Curran        |1              |\n",
      "|SP Narine        |1              |\n",
      "|HH Pandya        |1              |\n",
      "|Rashid Khan      |1              |\n",
      "|M Ntini          |1              |\n",
      "|M Prasidh Krishna|1              |\n",
      "|S Badree         |1              |\n",
      "|AJ Tye           |1              |\n",
      "|R Vinay Kumar    |1              |\n",
      "|YS Chahal        |1              |\n",
      "+-----------------+---------------+\n",
      "only showing top 20 rows\n",
      "\n"
     ]
    }
   ],
   "source": [
    "spark.sql('''\n",
    "SELECT bowler,COUNT(player_dismissed) AS total_hat_ricks\n",
    "FROM(\n",
    "    SELECT bowler,player_dismissed,\n",
    "        LEAD(player_dismissed) OVER(PARTITION BY match_id,innings,bowler ORDER BY match_id ) AS next_ball,\n",
    "        LEAD(player_dismissed,2) OVER(PARTITION BY match_id,innings,bowler ORDER BY match_id ) AS next_to_next_ball\n",
    "    \n",
    "    FROM deliveries \n",
    "    )\n",
    "WHERE player_dismissed IS NOT NULL AND next_ball IS NOT NULL AND next_to_next_ball IS NOT NULL\n",
    "GROUP BY bowler \n",
    "ORDER BY total_hat_ricks DESC\n",
    "''').show(truncate=False)"
   ]
  },
  {
   "cell_type": "markdown",
   "id": "ff2c0563-f087-4b27-b778-d4b00c4eac9f",
   "metadata": {},
   "source": [
    "***32. Which player has the most number of ducks in IPL history?***"
   ]
  },
  {
   "cell_type": "code",
   "execution_count": 20,
   "id": "eb72113b-4da5-42be-9c83-fc3ce73cb8c2",
   "metadata": {
    "scrolled": true
   },
   "outputs": [
    {
     "name": "stdout",
     "output_type": "stream",
     "text": [
      "+---------------+--------------------+\n",
      "|striker        |most_number_of_ducks|\n",
      "+---------------+--------------------+\n",
      "|KD Karthik     |18                  |\n",
      "|SP Narine      |16                  |\n",
      "|RG Sharma      |15                  |\n",
      "|Rashid Khan    |15                  |\n",
      "|GJ Maxwell     |14                  |\n",
      "|MK Pandey      |14                  |\n",
      "|Mandeep Singh  |14                  |\n",
      "|R Ashwin       |13                  |\n",
      "|AM Rahane      |13                  |\n",
      "|AT Rayudu      |13                  |\n",
      "|PA Patel       |13                  |\n",
      "|PP Chawla      |13                  |\n",
      "|S Dhawan       |12                  |\n",
      "|Harbhajan Singh|12                  |\n",
      "|DA Warner      |11                  |\n",
      "|G Gambhir      |11                  |\n",
      "|CH Morris      |10                  |\n",
      "|YK Pathan      |10                  |\n",
      "|UT Yadav       |10                  |\n",
      "|V Kohli        |10                  |\n",
      "+---------------+--------------------+\n",
      "only showing top 20 rows\n",
      "\n"
     ]
    }
   ],
   "source": [
    "spark.sql('''\n",
    "WITH batsman_runs AS (\n",
    "    SELECT  match_id,\n",
    "        striker,\n",
    "        SUM(runs_off_bat) AS total_batsman_run\n",
    "    FROM deliveries\n",
    "    GROUP BY 1,2\n",
    ")\n",
    "SELECT striker,COUNT(*) AS most_number_of_ducks\n",
    "FROM batsman_runs\n",
    "WHERE total_batsman_run = 0\n",
    "GROUP BY striker\n",
    "ORDER BY most_number_of_ducks DESC\n",
    "''').show(truncate=False)"
   ]
  },
  {
   "cell_type": "markdown",
   "id": "59427d77-a71f-496f-8dbf-529cba59b409",
   "metadata": {},
   "source": [
    "***(NA)33. Which team has the most number of century partnerships in IPL history?***"
   ]
  },
  {
   "cell_type": "code",
   "execution_count": 22,
   "id": "c12918fe-54e6-445e-960b-8a40f960f75a",
   "metadata": {},
   "outputs": [
    {
     "name": "stdout",
     "output_type": "stream",
     "text": [
      "+--------+------+----------+--------------------------------+-------+----+--------------+-------------------+------------+------------+------------+------------+------+-----+-------+----+-------+-------+-----------+----------------+-----------------+----------------------+------------+\n",
      "|match_id|season|start_date|venue                           |innings|ball|batting_team  |bowling_team       |striker     |non_striker |bowler      |runs_off_bat|extras|wides|noballs|byes|legbyes|penalty|wicket_type|player_dismissed|other_wicket_type|other_player_dismissed|cricsheet_id|\n",
      "+--------+------+----------+--------------------------------+-------+----+--------------+-------------------+------------+------------+------------+------------+------+-----+-------+----+-------+-------+-----------+----------------+-----------------+----------------------+------------+\n",
      "|1370353 |2023  |2023-05-29|Narendra Modi Stadium, Ahmedabad|1      |0.1 |Gujarat Titans|Chennai Super Kings|WP Saha     |Shubman Gill|DL Chahar   |0           |0     |NULL |NULL   |NULL|NULL   |NULL   |NULL       |NULL            |NULL             |NULL                  |1370353     |\n",
      "|1370353 |2023  |2023-05-29|Narendra Modi Stadium, Ahmedabad|1      |0.2 |Gujarat Titans|Chennai Super Kings|WP Saha     |Shubman Gill|DL Chahar   |0           |0     |NULL |NULL   |NULL|NULL   |NULL   |NULL       |NULL            |NULL             |NULL                  |1370353     |\n",
      "|1370353 |2023  |2023-05-29|Narendra Modi Stadium, Ahmedabad|1      |0.3 |Gujarat Titans|Chennai Super Kings|WP Saha     |Shubman Gill|DL Chahar   |1           |0     |NULL |NULL   |NULL|NULL   |NULL   |NULL       |NULL            |NULL             |NULL                  |1370353     |\n",
      "|1370353 |2023  |2023-05-29|Narendra Modi Stadium, Ahmedabad|1      |0.4 |Gujarat Titans|Chennai Super Kings|Shubman Gill|WP Saha     |DL Chahar   |1           |0     |NULL |NULL   |NULL|NULL   |NULL   |NULL       |NULL            |NULL             |NULL                  |1370353     |\n",
      "|1370353 |2023  |2023-05-29|Narendra Modi Stadium, Ahmedabad|1      |0.5 |Gujarat Titans|Chennai Super Kings|WP Saha     |Shubman Gill|DL Chahar   |1           |0     |NULL |NULL   |NULL|NULL   |NULL   |NULL       |NULL            |NULL             |NULL                  |1370353     |\n",
      "|1370353 |2023  |2023-05-29|Narendra Modi Stadium, Ahmedabad|1      |0.6 |Gujarat Titans|Chennai Super Kings|Shubman Gill|WP Saha     |DL Chahar   |1           |0     |NULL |NULL   |NULL|NULL   |NULL   |NULL       |NULL            |NULL             |NULL                  |1370353     |\n",
      "|1370353 |2023  |2023-05-29|Narendra Modi Stadium, Ahmedabad|1      |1.1 |Gujarat Titans|Chennai Super Kings|Shubman Gill|WP Saha     |TU Deshpande|0           |0     |NULL |NULL   |NULL|NULL   |NULL   |NULL       |NULL            |NULL             |NULL                  |1370353     |\n",
      "|1370353 |2023  |2023-05-29|Narendra Modi Stadium, Ahmedabad|1      |1.2 |Gujarat Titans|Chennai Super Kings|Shubman Gill|WP Saha     |TU Deshpande|1           |0     |NULL |NULL   |NULL|NULL   |NULL   |NULL       |NULL            |NULL             |NULL                  |1370353     |\n",
      "|1370353 |2023  |2023-05-29|Narendra Modi Stadium, Ahmedabad|1      |1.3 |Gujarat Titans|Chennai Super Kings|WP Saha     |Shubman Gill|TU Deshpande|1           |0     |NULL |NULL   |NULL|NULL   |NULL   |NULL       |NULL            |NULL             |NULL                  |1370353     |\n",
      "|1370353 |2023  |2023-05-29|Narendra Modi Stadium, Ahmedabad|1      |1.4 |Gujarat Titans|Chennai Super Kings|Shubman Gill|WP Saha     |TU Deshpande|1           |0     |NULL |NULL   |NULL|NULL   |NULL   |NULL       |NULL            |NULL             |NULL                  |1370353     |\n",
      "|1370353 |2023  |2023-05-29|Narendra Modi Stadium, Ahmedabad|1      |1.5 |Gujarat Titans|Chennai Super Kings|WP Saha     |Shubman Gill|TU Deshpande|0           |0     |NULL |NULL   |NULL|NULL   |NULL   |NULL       |NULL            |NULL             |NULL                  |1370353     |\n",
      "|1370353 |2023  |2023-05-29|Narendra Modi Stadium, Ahmedabad|1      |1.6 |Gujarat Titans|Chennai Super Kings|WP Saha     |Shubman Gill|TU Deshpande|1           |0     |NULL |NULL   |NULL|NULL   |NULL   |NULL       |NULL            |NULL             |NULL                  |1370353     |\n",
      "|1370353 |2023  |2023-05-29|Narendra Modi Stadium, Ahmedabad|1      |2.1 |Gujarat Titans|Chennai Super Kings|WP Saha     |Shubman Gill|DL Chahar   |6           |0     |NULL |NULL   |NULL|NULL   |NULL   |NULL       |NULL            |NULL             |NULL                  |1370353     |\n",
      "|1370353 |2023  |2023-05-29|Narendra Modi Stadium, Ahmedabad|1      |2.2 |Gujarat Titans|Chennai Super Kings|WP Saha     |Shubman Gill|DL Chahar   |0           |0     |NULL |NULL   |NULL|NULL   |NULL   |NULL       |NULL            |NULL             |NULL                  |1370353     |\n",
      "|1370353 |2023  |2023-05-29|Narendra Modi Stadium, Ahmedabad|1      |2.3 |Gujarat Titans|Chennai Super Kings|WP Saha     |Shubman Gill|DL Chahar   |4           |0     |NULL |NULL   |NULL|NULL   |NULL   |NULL       |NULL            |NULL             |NULL                  |1370353     |\n",
      "|1370353 |2023  |2023-05-29|Narendra Modi Stadium, Ahmedabad|1      |2.4 |Gujarat Titans|Chennai Super Kings|WP Saha     |Shubman Gill|DL Chahar   |4           |0     |NULL |NULL   |NULL|NULL   |NULL   |NULL       |NULL            |NULL             |NULL                  |1370353     |\n",
      "|1370353 |2023  |2023-05-29|Narendra Modi Stadium, Ahmedabad|1      |2.5 |Gujarat Titans|Chennai Super Kings|WP Saha     |Shubman Gill|DL Chahar   |2           |0     |NULL |NULL   |NULL|NULL   |NULL   |NULL       |NULL            |NULL             |NULL                  |1370353     |\n",
      "|1370353 |2023  |2023-05-29|Narendra Modi Stadium, Ahmedabad|1      |2.6 |Gujarat Titans|Chennai Super Kings|WP Saha     |Shubman Gill|DL Chahar   |0           |0     |NULL |NULL   |NULL|NULL   |NULL   |NULL       |NULL            |NULL             |NULL                  |1370353     |\n",
      "|1370353 |2023  |2023-05-29|Narendra Modi Stadium, Ahmedabad|1      |3.1 |Gujarat Titans|Chennai Super Kings|Shubman Gill|WP Saha     |TU Deshpande|4           |0     |NULL |NULL   |NULL|NULL   |NULL   |NULL       |NULL            |NULL             |NULL                  |1370353     |\n",
      "|1370353 |2023  |2023-05-29|Narendra Modi Stadium, Ahmedabad|1      |3.2 |Gujarat Titans|Chennai Super Kings|Shubman Gill|WP Saha     |TU Deshpande|4           |0     |NULL |NULL   |NULL|NULL   |NULL   |NULL       |NULL            |NULL             |NULL                  |1370353     |\n",
      "+--------+------+----------+--------------------------------+-------+----+--------------+-------------------+------------+------------+------------+------------+------+-----+-------+----+-------+-------+-----------+----------------+-----------------+----------------------+------------+\n",
      "only showing top 20 rows\n",
      "\n"
     ]
    }
   ],
   "source": [
    "spark.sql('''\n",
    "SELECT *\n",
    "FROM deliveries\n",
    "''').show(truncate=False)"
   ]
  },
  {
   "cell_type": "markdown",
   "id": "479df8d4-5022-42fa-92ce-677be832fe58",
   "metadata": {},
   "source": [
    "***34. Which batsman has the highest strike rate in the last five overs of an innings in IPL history?***"
   ]
  },
  {
   "cell_type": "code",
   "execution_count": 68,
   "id": "19961af1-dc83-4259-85b6-9ca0d4a23578",
   "metadata": {},
   "outputs": [
    {
     "name": "stdout",
     "output_type": "stream",
     "text": [
      "+--------------+-------------------+\n",
      "|       striker|batting_strike_rate|\n",
      "+--------------+-------------------+\n",
      "|AB de Villiers|  215.4555940023068|\n",
      "|      CH Gayle| 191.11842105263156|\n",
      "|       RR Pant|  189.4484412470024|\n",
      "|     SV Samson| 181.23324396782843|\n",
      "|    AD Russell|  180.4248861911988|\n",
      "|       V Kohli|  178.8787483702738|\n",
      "|     RG Sharma|  174.5005875440658|\n",
      "|  F du Plessis| 173.31288343558282|\n",
      "|     DA Warner| 173.00275482093664|\n",
      "|    GJ Maxwell|  172.4852071005917|\n",
      "+--------------+-------------------+\n",
      "\n"
     ]
    }
   ],
   "source": [
    "spark.sql(\"\"\"\n",
    "SELECT striker,\n",
    "    (SUM(runs_off_bat)/COUNT(*))*100 AS batting_strike_rate\n",
    "FROM deliveries\n",
    "WHERE ball BETWEEN 15 AND 20\n",
    "GROUP BY striker\n",
    "HAVING COUNT(*)>300\n",
    "ORDER BY batting_strike_rate DESC\n",
    "LIMIT 10\n",
    "\"\"\").show()"
   ]
  },
  {
   "cell_type": "markdown",
   "id": "87da2546-103b-4918-8852-abb2f6ce4984",
   "metadata": {},
   "source": [
    "***35. Which team has the most number of successful chases in IPL history?***"
   ]
  },
  {
   "cell_type": "code",
   "execution_count": 39,
   "id": "5f0e5475-5393-40b4-8f25-c0405aae67f4",
   "metadata": {},
   "outputs": [
    {
     "name": "stdout",
     "output_type": "stream",
     "text": [
      "+---------------------------+----------------------+\n",
      "|winner                     |most_win_while_chasing|\n",
      "+---------------------------+----------------------+\n",
      "|Kolkata Knight Riders      |73                    |\n",
      "|Mumbai Indians             |69                    |\n",
      "|Chennai Super Kings        |65                    |\n",
      "|Royal Challengers Bangalore|61                    |\n",
      "|Rajasthan Royals           |60                    |\n",
      "|Kings XI Punjab            |46                    |\n",
      "|Delhi Daredevils           |42                    |\n",
      "|Sunrisers Hyderabad        |40                    |\n",
      "|Delhi Capitals             |22                    |\n",
      "|Gujarat Titans             |14                    |\n",
      "|Gujarat Lions              |12                    |\n",
      "|Deccan Chargers            |11                    |\n",
      "|Punjab Kings               |8                     |\n",
      "|Pune Warriors              |6                     |\n",
      "|Lucknow Super Giants       |5                     |\n",
      "|Rising Pune Supergiant     |5                     |\n",
      "|Rising Pune Supergiants    |5                     |\n",
      "|Kochi Tuskers Kerala       |4                     |\n",
      "|NULL                       |0                     |\n",
      "+---------------------------+----------------------+\n",
      "\n"
     ]
    }
   ],
   "source": [
    "spark.sql('''\n",
    "SELECT winner,\n",
    "    SUM(CASE WHEN (toss_decision = 'field' AND toss_winner = winner ) OR \n",
    "        (toss_winner <> winner AND toss_decision= 'bat') THEN 1 ELSE 0 END) AS most_win_while_chasing\n",
    "FROM matches\n",
    "GROUP BY winner\n",
    "ORDER BY most_win_while_chasing DESC\n",
    "''').show(truncate=False)"
   ]
  },
  {
   "cell_type": "markdown",
   "id": "1d801072-4b64-4d80-bc57-e21ef1dae5aa",
   "metadata": {},
   "source": [
    "***36. Which team has the highest score chased in IPL history?***"
   ]
  },
  {
   "cell_type": "code",
   "execution_count": 56,
   "id": "3f79c455-22c1-45f3-9c74-838d90d57762",
   "metadata": {},
   "outputs": [
    {
     "name": "stdout",
     "output_type": "stream",
     "text": [
      "+---------------+----------------+----------------+--------------------+\n",
      "|team1          |team2           |winner          |Highest_score_chased|\n",
      "+---------------+----------------+----------------+--------------------+\n",
      "|Kings XI Punjab|Rajasthan Royals|Rajasthan Royals|226                 |\n",
      "+---------------+----------------+----------------+--------------------+\n",
      "\n"
     ]
    }
   ],
   "source": [
    "spark.sql('''\n",
    "WITH inning_scores AS (\n",
    "    SELECT season,\n",
    "        match_id,\n",
    "        innings,\n",
    "        SUM(runs_off_bat+extras) AS inning_score\n",
    "    FROM deliveries\n",
    "    WHERE (innings=2 OR innings=1) AND match_id <> 829813 AND\n",
    "        match_id IN(SELECT DISTINCT id\n",
    "                        FROM matches\n",
    "                        WHERE result <> 'D/L')\n",
    "    GROUP BY 1,2,3\n",
    ")\n",
    "SELECT m.team1,m.team2, m.winner,x.inning_score AS Highest_score_chased \n",
    "FROM matches m\n",
    "JOIN (\n",
    "    SELECT match_id,inning_score\n",
    "    FROM inning_scores\n",
    "    WHERE match_id IN(\n",
    "    SELECT DISTINCT id\n",
    "    FROM matches\n",
    "    WHERE (toss_decision = 'field' AND toss_winner = winner ) OR \n",
    "            (toss_winner <> winner AND toss_decision= 'bat')\n",
    "    )\n",
    "    ORDER BY inning_score DESC\n",
    "    LIMIT 1\n",
    "    ) x ON m.id=x.match_id\n",
    "''').show(truncate=False)"
   ]
  },
  {
   "cell_type": "markdown",
   "id": "7228855d-923d-4543-b5fa-ae8736a64c49",
   "metadata": {},
   "source": [
    "***37. Who has hold the record of getting dismissed on 40s in ipl?***"
   ]
  },
  {
   "cell_type": "code",
   "execution_count": 63,
   "id": "ba8c701e-a520-48ed-a99a-bba2cedad23a",
   "metadata": {},
   "outputs": [
    {
     "name": "stdout",
     "output_type": "stream",
     "text": [
      "+--------------+---------------------------------------+\n",
      "|       striker|most_record_of_getting_dismissed_on_40s|\n",
      "+--------------+---------------------------------------+\n",
      "|     RG Sharma|                                     19|\n",
      "|      S Dhawan|                                     18|\n",
      "|    KD Karthik|                                     18|\n",
      "|      MS Dhoni|                                     17|\n",
      "|     SV Samson|                                     16|\n",
      "|   BB McCullum|                                     15|\n",
      "|    RV Uthappa|                                     15|\n",
      "|    AD Russell|                                     15|\n",
      "|       V Kohli|                                     15|\n",
      "|     AT Rayudu|                                     15|\n",
      "|     YK Pathan|                                     14|\n",
      "|      CH Gayle|                                     14|\n",
      "|     DA Warner|                                     14|\n",
      "|       SS Iyer|                                     13|\n",
      "|AB de Villiers|                                     13|\n",
      "|      SK Raina|                                     13|\n",
      "|     AM Rahane|                                     12|\n",
      "|  F du Plessis|                                     12|\n",
      "|    GJ Maxwell|                                     11|\n",
      "|     Q de Kock|                                     11|\n",
      "+--------------+---------------------------------------+\n",
      "only showing top 20 rows\n",
      "\n"
     ]
    }
   ],
   "source": [
    "spark.sql(\"\"\"\n",
    "WITH batsman_run AS (\n",
    "    SELECT match_id,\n",
    "        striker,\n",
    "        SUM(runs_off_bat) AS total_runs\n",
    "    FROM deliveries\n",
    "    GROUP BY 1,2\n",
    "    )\n",
    "SELECT striker,\n",
    "    COUNT(*) AS most_record_of_getting_dismissed_on_40s\n",
    "FROM batsman_run\n",
    "WHERE total_runs BETWEEN 40 AND 49\n",
    "GROUP BY striker\n",
    "ORDER BY most_record_of_getting_dismissed_on_40s DESC\n",
    "\"\"\").show()"
   ]
  },
  {
   "cell_type": "markdown",
   "id": "d8fb035f-b07d-4f95-b03d-1409057f36c6",
   "metadata": {},
   "source": [
    "***38.Which bowler has taken most wickets in a match in ipl?***"
   ]
  },
  {
   "cell_type": "code",
   "execution_count": 86,
   "id": "ef26a91d-74c8-478f-a206-72a7777f840f",
   "metadata": {},
   "outputs": [
    {
     "name": "stdout",
     "output_type": "stream",
     "text": [
      "+--------+--------------+------------+----+\n",
      "|match_id|bowler        |total_wicket|runs|\n",
      "+--------+--------------+------------+----+\n",
      "|1178394 |AS Joseph     |6           |12.0|\n",
      "|980979  |A Zampa       |6           |19.0|\n",
      "|336005  |Sohail Tanvir |6           |14.0|\n",
      "|1370351 |Akash Madhwal |5           |5.0 |\n",
      "|1254111 |Arshdeep Singh|5           |32.0|\n",
      "|1304086 |Umran Malik   |5           |25.0|\n",
      "|1304100 |PWH de Silva  |5           |18.0|\n",
      "|1359477 |MA Wood       |5           |14.0|\n",
      "|1216497 |CV Varun      |5           |20.0|\n",
      "|1254062 |AD Russell    |5           |15.0|\n",
      "+--------+--------------+------------+----+\n",
      "\n"
     ]
    }
   ],
   "source": [
    "spark.sql('''\n",
    "SELECT match_id,\n",
    "    bowler,\n",
    "    COUNT(CASE WHEN wicket_type NOT IN('run out','retired hurt') THEN player_dismissed ELSE NULL END) AS total_wicket,\n",
    "    SUM(runs_off_bat + COALESCE(wides,0) +COALESCE(noballs,0)) AS runs\n",
    "FROM deliveries\n",
    "GROUP BY match_id,bowler\n",
    "ORDER BY total_wicket DESC\n",
    "LIMIT 10\n",
    "''').show(truncate=False)"
   ]
  },
  {
   "cell_type": "markdown",
   "id": "d14f7c0e-5f16-4e37-916f-b1390f8420fd",
   "metadata": {},
   "source": [
    "***39. Most Runs Conceded By A Bowler in IPL***"
   ]
  },
  {
   "cell_type": "code",
   "execution_count": 85,
   "id": "f6e2b4ad-a540-4f62-b884-50a5b18a4a66",
   "metadata": {},
   "outputs": [
    {
     "name": "stdout",
     "output_type": "stream",
     "text": [
      "+-----------------+----+\n",
      "|bowler           |runs|\n",
      "+-----------------+----+\n",
      "|Basil Thampi     |70.0|\n",
      "|Yash Dayal       |69.0|\n",
      "|Mujeeb Ur Rahman |66.0|\n",
      "|Arshdeep Singh   |66.0|\n",
      "|I Sharma         |66.0|\n",
      "|Sandeep Sharma   |65.0|\n",
      "|UT Yadav         |65.0|\n",
      "|JR Hazlewood     |64.0|\n",
      "|S Kaul           |64.0|\n",
      "|M Jansen         |63.0|\n",
      "|TA Boult         |63.0|\n",
      "|AB Dinda         |63.0|\n",
      "|VR Aaron         |63.0|\n",
      "|Vijaykumar Vyshak|62.0|\n",
      "|L Ngidi          |62.0|\n",
      "|MG Neser         |62.0|\n",
      "|TG Southee       |61.0|\n",
      "|SR Watson        |61.0|\n",
      "|Avesh Khan       |60.0|\n",
      "|T Natarajan      |60.0|\n",
      "+-----------------+----+\n",
      "only showing top 20 rows\n",
      "\n"
     ]
    }
   ],
   "source": [
    "spark.sql('''\n",
    "SELECT bowler,\n",
    "    SUM(runs_off_bat + COALESCE(wides,0)+COALESCE(noballs,0)) AS runs\n",
    "    \n",
    "FROM(\n",
    "    SELECT *,CAST(ball AS int) AS over\n",
    "    FROM deliveries\n",
    "    )\n",
    "GROUP BY match_id,bowler\n",
    "ORDER BY runs DESC\n",
    "''').show(truncate=False)"
   ]
  },
  {
   "cell_type": "markdown",
   "id": "0e62b745-82f9-4a5e-a21c-e7d6c0c1640b",
   "metadata": {},
   "source": [
    "***40. Most runs in an over in ipl***"
   ]
  },
  {
   "cell_type": "code",
   "execution_count": 87,
   "id": "dd042fa6-c777-4df8-9c2f-bcf9a764f038",
   "metadata": {},
   "outputs": [
    {
     "name": "stdout",
     "output_type": "stream",
     "text": [
      "+---------------+----+\n",
      "|bowler         |runs|\n",
      "+---------------+----+\n",
      "|HV Patel       |37.0|\n",
      "|P Parameswaran |37.0|\n",
      "|DR Sams        |35.0|\n",
      "|P Awana        |33.0|\n",
      "|RS Bopara      |33.0|\n",
      "|Arjun Tendulkar|31.0|\n",
      "|Abhishek Sharma|31.0|\n",
      "|Yash Dayal     |31.0|\n",
      "|R Sharma       |31.0|\n",
      "|SS Cottrell    |30.0|\n",
      "|Shivam Mavi    |30.0|\n",
      "|CJ Jordan      |30.0|\n",
      "|OF Smith       |30.0|\n",
      "|SM Curran      |30.0|\n",
      "|L Ngidi        |30.0|\n",
      "|DJ Bravo       |30.0|\n",
      "|S Kaushik      |30.0|\n",
      "|JJ van der Wath|30.0|\n",
      "|A Symonds      |30.0|\n",
      "|Shivam Mavi    |29.0|\n",
      "+---------------+----+\n",
      "only showing top 20 rows\n",
      "\n"
     ]
    }
   ],
   "source": [
    "spark.sql('''\n",
    "SELECT bowler,\n",
    "    SUM(runs_off_bat + COALESCE(wides,0) + COALESCE(noballs,0)) AS runs\n",
    "    \n",
    "FROM(\n",
    "    SELECT *,CAST(ball AS int) AS over\n",
    "    FROM deliveries\n",
    "    )\n",
    "GROUP BY match_id,bowler,over\n",
    "ORDER BY runs DESC\n",
    "''').show(truncate=False)"
   ]
  },
  {
   "cell_type": "markdown",
   "id": "31a28329-3f3f-40bb-af34-e52986cf90c4",
   "metadata": {},
   "source": [
    "***41. Which team has most 200+ totals by each ipl franchise ?***"
   ]
  },
  {
   "cell_type": "code",
   "execution_count": 23,
   "id": "5d114047-9ada-4b4f-b5d0-c2116387abc5",
   "metadata": {},
   "outputs": [
    {
     "name": "stdout",
     "output_type": "stream",
     "text": [
      "+---------------------------+---------------+\n",
      "|batting_team               |most_200_scores|\n",
      "+---------------------------+---------------+\n",
      "|Chennai Super Kings        |28             |\n",
      "|Royal Challengers Bangalore|24             |\n",
      "|Mumbai Indians             |22             |\n",
      "|Kolkata Knight Riders      |19             |\n",
      "|Rajasthan Royals           |18             |\n",
      "|Sunrisers Hyderabad        |15             |\n",
      "|Kings XI Punjab            |15             |\n",
      "|Punjab Kings               |7              |\n",
      "|Delhi Capitals             |6              |\n",
      "|Lucknow Super Giants       |5              |\n",
      "|Gujarat Titans             |5              |\n",
      "|Delhi Daredevils           |5              |\n",
      "|Deccan Chargers            |1              |\n",
      "|Gujarat Lions              |1              |\n",
      "+---------------------------+---------------+\n",
      "\n"
     ]
    }
   ],
   "source": [
    "spark.sql('''\n",
    "WITH Total_inning_Runs AS (\n",
    "SELECT match_id,\n",
    "    batting_team,\n",
    "    SUM(runs_off_bat + extras ) AS inning_runs\n",
    "FROM deliveries\n",
    "GROUP BY match_id,batting_team\n",
    "HAVING inning_runs>=200\n",
    ")\n",
    "SELECT batting_team,\n",
    "    COUNT(*) AS most_200_scores\n",
    "FROM Total_inning_Runs\n",
    "GROUP BY 1\n",
    "ORDER BY most_200_scores DESC\n",
    "''').show(truncate=False)"
   ]
  },
  {
   "cell_type": "markdown",
   "id": "ee5916af-4207-419d-a578-0767d0aed59d",
   "metadata": {},
   "source": [
    "***42. Which player has Most runs in ipl history?***"
   ]
  },
  {
   "cell_type": "code",
   "execution_count": 25,
   "id": "760e688e-3c5d-4753-9109-e56fdc4dabe4",
   "metadata": {},
   "outputs": [
    {
     "name": "stdout",
     "output_type": "stream",
     "text": [
      "+--------------+---------+\n",
      "|striker       |most_runs|\n",
      "+--------------+---------+\n",
      "|V Kohli       |7273     |\n",
      "|S Dhawan      |6617     |\n",
      "|DA Warner     |6399     |\n",
      "|RG Sharma     |6213     |\n",
      "|SK Raina      |5536     |\n",
      "|AB de Villiers|5181     |\n",
      "|MS Dhoni      |5082     |\n",
      "|CH Gayle      |4997     |\n",
      "|RV Uthappa    |4954     |\n",
      "|KD Karthik    |4517     |\n",
      "|AM Rahane     |4400     |\n",
      "|AT Rayudu     |4348     |\n",
      "|G Gambhir     |4217     |\n",
      "|KL Rahul      |4169     |\n",
      "|F du Plessis  |4133     |\n",
      "|SV Samson     |3888     |\n",
      "|SR Watson     |3880     |\n",
      "|MK Pandey     |3817     |\n",
      "|KA Pollard    |3437     |\n",
      "|SA Yadav      |3249     |\n",
      "+--------------+---------+\n",
      "only showing top 20 rows\n",
      "\n"
     ]
    }
   ],
   "source": [
    "spark.sql('''\n",
    "WITH BatsmanRuns AS (\n",
    "SELECT match_id,\n",
    "    striker,\n",
    "    SUM(runs_off_bat) AS runs\n",
    "FROM deliveries\n",
    "GROUP BY match_id,striker\n",
    "ORDER BY runs DESC\n",
    ")\n",
    "SELECT striker,\n",
    "    SUM(runs) AS most_runs\n",
    "FROM BatsmanRuns\n",
    "GROUP BY 1\n",
    "ORDER BY most_runs DESC\n",
    "''').show(truncate=False)"
   ]
  },
  {
   "cell_type": "markdown",
   "id": "149ae375-60ac-4823-87c7-2bec6f3e2ea0",
   "metadata": {},
   "source": [
    "***42. Which player has Most wickets in ipl history?***"
   ]
  },
  {
   "cell_type": "code",
   "execution_count": null,
   "id": "facc3ea3-4936-453b-b63f-9fcd30ef401a",
   "metadata": {},
   "outputs": [],
   "source": [
    "spark.sql('''\n",
    "WITH BatsmanRuns AS (\n",
    "SELECT match_id,\n",
    "    striker,\n",
    "    SUM(runs_off_bat) AS runs\n",
    "FROM deliveries\n",
    "GROUP BY match_id,striker\n",
    "ORDER BY runs DESC\n",
    ")\n",
    "SELECT striker,\n",
    "    SUM(runs) AS most_runs\n",
    "FROM BatsmanRuns\n",
    "GROUP BY 1\n",
    "ORDER BY most_runs DESC\n",
    "''').show(truncate=False)"
   ]
  },
  {
   "cell_type": "markdown",
   "id": "f0e16afa-17ce-4479-9ba0-d04da94ddbb2",
   "metadata": {},
   "source": [
    "***43. Which player has played most number of matches for a franchise in ipl?***"
   ]
  },
  {
   "cell_type": "code",
   "execution_count": 10,
   "id": "356cd1b5-9bdd-4d82-bc55-074029005ac2",
   "metadata": {},
   "outputs": [
    {
     "name": "stdout",
     "output_type": "stream",
     "text": [
      "+--------------+------------+\n",
      "|striker       |match_played|\n",
      "+--------------+------------+\n",
      "|RG Sharma     |237         |\n",
      "|V Kohli       |229         |\n",
      "|KD Karthik    |220         |\n",
      "|MS Dhoni      |217         |\n",
      "|S Dhawan      |216         |\n",
      "|SK Raina      |200         |\n",
      "|RV Uthappa    |197         |\n",
      "|AT Rayudu     |185         |\n",
      "|DA Warner     |176         |\n",
      "|AB de Villiers|170         |\n",
      "|RA Jadeja     |169         |\n",
      "|KA Pollard    |168         |\n",
      "|AM Rahane     |159         |\n",
      "|MK Pandey     |157         |\n",
      "|YK Pathan     |153         |\n",
      "|G Gambhir     |151         |\n",
      "|SV Samson     |147         |\n",
      "|CH Gayle      |141         |\n",
      "|SR Watson     |141         |\n",
      "|PA Patel      |136         |\n",
      "+--------------+------------+\n",
      "only showing top 20 rows\n",
      "\n"
     ]
    }
   ],
   "source": [
    "# I have solved this question based on the data\n",
    "spark.sql('''\n",
    "WITH BatsmanMatchPlayed AS (\n",
    "        SELECT match_id,\n",
    "            striker,\n",
    "            COUNT(DISTINCT match_id) AS total_matches\n",
    "        FROM deliveries\n",
    "        GROUP BY match_id,striker\n",
    "        ORDER BY total_matches DESC\n",
    "        ),\n",
    "    BowlerMatchesPlayed AS (\n",
    "        SELECT match_id,\n",
    "            striker,\n",
    "            COUNT(DISTINCT match_id) AS total_matches\n",
    "        FROM deliveries\n",
    "        GROUP BY match_id,striker\n",
    "        ORDER BY total_matches DESC\n",
    "        )\n",
    "SELECT striker,\n",
    "    SUM(total_matches) AS match_played\n",
    "FROM (\n",
    "    SELECT *\n",
    "    FROM BatsmanMatchPlayed\n",
    "    \n",
    "    UNION\n",
    "    \n",
    "    SELECT *\n",
    "    FROM BowlerMatchesPlayed\n",
    "    )\n",
    "GROUP BY striker\n",
    "ORDER BY match_played DESC\n",
    "''').show(truncate=False)"
   ]
  },
  {
   "cell_type": "markdown",
   "id": "46ff8fbb-3c97-4d48-9443-72d1e0a8d3dc",
   "metadata": {},
   "source": []
  },
  {
   "cell_type": "code",
   "execution_count": null,
   "id": "db470efe-d8b0-415b-9240-ba3919482c1a",
   "metadata": {},
   "outputs": [],
   "source": []
  },
  {
   "cell_type": "code",
   "execution_count": null,
   "id": "e519e3f7-378c-4f57-8d4b-199d313166cd",
   "metadata": {},
   "outputs": [],
   "source": []
  },
  {
   "cell_type": "code",
   "execution_count": 11,
   "id": "c5702d23-d9ce-4753-b387-649534655dd6",
   "metadata": {},
   "outputs": [
    {
     "name": "stdout",
     "output_type": "stream",
     "text": [
      "+--------+------+----------+--------------------------------+-------+----+--------------+-------------------+------------+------------+------------+------------+------+-----+-------+----+-------+-------+-----------+----------------+-----------------+----------------------+------------+\n",
      "|match_id|season|start_date|venue                           |innings|ball|batting_team  |bowling_team       |striker     |non_striker |bowler      |runs_off_bat|extras|wides|noballs|byes|legbyes|penalty|wicket_type|player_dismissed|other_wicket_type|other_player_dismissed|cricsheet_id|\n",
      "+--------+------+----------+--------------------------------+-------+----+--------------+-------------------+------------+------------+------------+------------+------+-----+-------+----+-------+-------+-----------+----------------+-----------------+----------------------+------------+\n",
      "|1370353 |2023  |2023-05-29|Narendra Modi Stadium, Ahmedabad|1      |0.1 |Gujarat Titans|Chennai Super Kings|WP Saha     |Shubman Gill|DL Chahar   |0           |0     |NULL |NULL   |NULL|NULL   |NULL   |NULL       |NULL            |NULL             |NULL                  |1370353     |\n",
      "|1370353 |2023  |2023-05-29|Narendra Modi Stadium, Ahmedabad|1      |0.2 |Gujarat Titans|Chennai Super Kings|WP Saha     |Shubman Gill|DL Chahar   |0           |0     |NULL |NULL   |NULL|NULL   |NULL   |NULL       |NULL            |NULL             |NULL                  |1370353     |\n",
      "|1370353 |2023  |2023-05-29|Narendra Modi Stadium, Ahmedabad|1      |0.3 |Gujarat Titans|Chennai Super Kings|WP Saha     |Shubman Gill|DL Chahar   |1           |0     |NULL |NULL   |NULL|NULL   |NULL   |NULL       |NULL            |NULL             |NULL                  |1370353     |\n",
      "|1370353 |2023  |2023-05-29|Narendra Modi Stadium, Ahmedabad|1      |0.4 |Gujarat Titans|Chennai Super Kings|Shubman Gill|WP Saha     |DL Chahar   |1           |0     |NULL |NULL   |NULL|NULL   |NULL   |NULL       |NULL            |NULL             |NULL                  |1370353     |\n",
      "|1370353 |2023  |2023-05-29|Narendra Modi Stadium, Ahmedabad|1      |0.5 |Gujarat Titans|Chennai Super Kings|WP Saha     |Shubman Gill|DL Chahar   |1           |0     |NULL |NULL   |NULL|NULL   |NULL   |NULL       |NULL            |NULL             |NULL                  |1370353     |\n",
      "|1370353 |2023  |2023-05-29|Narendra Modi Stadium, Ahmedabad|1      |0.6 |Gujarat Titans|Chennai Super Kings|Shubman Gill|WP Saha     |DL Chahar   |1           |0     |NULL |NULL   |NULL|NULL   |NULL   |NULL       |NULL            |NULL             |NULL                  |1370353     |\n",
      "|1370353 |2023  |2023-05-29|Narendra Modi Stadium, Ahmedabad|1      |1.1 |Gujarat Titans|Chennai Super Kings|Shubman Gill|WP Saha     |TU Deshpande|0           |0     |NULL |NULL   |NULL|NULL   |NULL   |NULL       |NULL            |NULL             |NULL                  |1370353     |\n",
      "|1370353 |2023  |2023-05-29|Narendra Modi Stadium, Ahmedabad|1      |1.2 |Gujarat Titans|Chennai Super Kings|Shubman Gill|WP Saha     |TU Deshpande|1           |0     |NULL |NULL   |NULL|NULL   |NULL   |NULL       |NULL            |NULL             |NULL                  |1370353     |\n",
      "|1370353 |2023  |2023-05-29|Narendra Modi Stadium, Ahmedabad|1      |1.3 |Gujarat Titans|Chennai Super Kings|WP Saha     |Shubman Gill|TU Deshpande|1           |0     |NULL |NULL   |NULL|NULL   |NULL   |NULL       |NULL            |NULL             |NULL                  |1370353     |\n",
      "|1370353 |2023  |2023-05-29|Narendra Modi Stadium, Ahmedabad|1      |1.4 |Gujarat Titans|Chennai Super Kings|Shubman Gill|WP Saha     |TU Deshpande|1           |0     |NULL |NULL   |NULL|NULL   |NULL   |NULL       |NULL            |NULL             |NULL                  |1370353     |\n",
      "|1370353 |2023  |2023-05-29|Narendra Modi Stadium, Ahmedabad|1      |1.5 |Gujarat Titans|Chennai Super Kings|WP Saha     |Shubman Gill|TU Deshpande|0           |0     |NULL |NULL   |NULL|NULL   |NULL   |NULL       |NULL            |NULL             |NULL                  |1370353     |\n",
      "|1370353 |2023  |2023-05-29|Narendra Modi Stadium, Ahmedabad|1      |1.6 |Gujarat Titans|Chennai Super Kings|WP Saha     |Shubman Gill|TU Deshpande|1           |0     |NULL |NULL   |NULL|NULL   |NULL   |NULL       |NULL            |NULL             |NULL                  |1370353     |\n",
      "|1370353 |2023  |2023-05-29|Narendra Modi Stadium, Ahmedabad|1      |2.1 |Gujarat Titans|Chennai Super Kings|WP Saha     |Shubman Gill|DL Chahar   |6           |0     |NULL |NULL   |NULL|NULL   |NULL   |NULL       |NULL            |NULL             |NULL                  |1370353     |\n",
      "|1370353 |2023  |2023-05-29|Narendra Modi Stadium, Ahmedabad|1      |2.2 |Gujarat Titans|Chennai Super Kings|WP Saha     |Shubman Gill|DL Chahar   |0           |0     |NULL |NULL   |NULL|NULL   |NULL   |NULL       |NULL            |NULL             |NULL                  |1370353     |\n",
      "|1370353 |2023  |2023-05-29|Narendra Modi Stadium, Ahmedabad|1      |2.3 |Gujarat Titans|Chennai Super Kings|WP Saha     |Shubman Gill|DL Chahar   |4           |0     |NULL |NULL   |NULL|NULL   |NULL   |NULL       |NULL            |NULL             |NULL                  |1370353     |\n",
      "|1370353 |2023  |2023-05-29|Narendra Modi Stadium, Ahmedabad|1      |2.4 |Gujarat Titans|Chennai Super Kings|WP Saha     |Shubman Gill|DL Chahar   |4           |0     |NULL |NULL   |NULL|NULL   |NULL   |NULL       |NULL            |NULL             |NULL                  |1370353     |\n",
      "|1370353 |2023  |2023-05-29|Narendra Modi Stadium, Ahmedabad|1      |2.5 |Gujarat Titans|Chennai Super Kings|WP Saha     |Shubman Gill|DL Chahar   |2           |0     |NULL |NULL   |NULL|NULL   |NULL   |NULL       |NULL            |NULL             |NULL                  |1370353     |\n",
      "|1370353 |2023  |2023-05-29|Narendra Modi Stadium, Ahmedabad|1      |2.6 |Gujarat Titans|Chennai Super Kings|WP Saha     |Shubman Gill|DL Chahar   |0           |0     |NULL |NULL   |NULL|NULL   |NULL   |NULL       |NULL            |NULL             |NULL                  |1370353     |\n",
      "|1370353 |2023  |2023-05-29|Narendra Modi Stadium, Ahmedabad|1      |3.1 |Gujarat Titans|Chennai Super Kings|Shubman Gill|WP Saha     |TU Deshpande|4           |0     |NULL |NULL   |NULL|NULL   |NULL   |NULL       |NULL            |NULL             |NULL                  |1370353     |\n",
      "|1370353 |2023  |2023-05-29|Narendra Modi Stadium, Ahmedabad|1      |3.2 |Gujarat Titans|Chennai Super Kings|Shubman Gill|WP Saha     |TU Deshpande|4           |0     |NULL |NULL   |NULL|NULL   |NULL   |NULL       |NULL            |NULL             |NULL                  |1370353     |\n",
      "+--------+------+----------+--------------------------------+-------+----+--------------+-------------------+------------+------------+------------+------------+------+-----+-------+----+-------+-------+-----------+----------------+-----------------+----------------------+------------+\n",
      "only showing top 20 rows\n",
      "\n"
     ]
    }
   ],
   "source": [
    "spark.sql('''\n",
    "SELECT *\n",
    "FROM deliveries\n",
    "''').show(truncate=False)"
   ]
  },
  {
   "cell_type": "code",
   "execution_count": 36,
   "id": "67f2321c-0621-4a44-9bd8-610097957a8e",
   "metadata": {},
   "outputs": [
    {
     "name": "stdout",
     "output_type": "stream",
     "text": [
      "+----------------+---------+-------+\n",
      "|col_name        |data_type|comment|\n",
      "+----------------+---------+-------+\n",
      "|match_id        |int      |NULL   |\n",
      "|season          |string   |NULL   |\n",
      "|start_date      |date     |NULL   |\n",
      "|venue           |string   |NULL   |\n",
      "|innings         |int      |NULL   |\n",
      "|ball            |double   |NULL   |\n",
      "|batting_team    |string   |NULL   |\n",
      "|bowling_team    |string   |NULL   |\n",
      "|striker         |string   |NULL   |\n",
      "|non_striker     |string   |NULL   |\n",
      "|bowler          |string   |NULL   |\n",
      "|runs_off_bat    |int      |NULL   |\n",
      "|extras          |int      |NULL   |\n",
      "|wides           |double   |NULL   |\n",
      "|noballs         |double   |NULL   |\n",
      "|byes            |double   |NULL   |\n",
      "|legbyes         |double   |NULL   |\n",
      "|penalty         |double   |NULL   |\n",
      "|wicket_type     |string   |NULL   |\n",
      "|player_dismissed|string   |NULL   |\n",
      "+----------------+---------+-------+\n",
      "only showing top 20 rows\n",
      "\n"
     ]
    }
   ],
   "source": [
    "spark.sql('''\n",
    "DESCRIBE deliveries\n",
    "''').show(truncate=False)"
   ]
  },
  {
   "cell_type": "code",
   "execution_count": 103,
   "id": "09db20e3-d3ae-4366-8fcf-f5d267cdf2e0",
   "metadata": {},
   "outputs": [],
   "source": [
    "# there is a mistake in the data. in  match id 829813 result should be no result but in the data result was given normal.\n",
    "\n",
    "#spark.sql('''\n",
    "#UPDATE matches\n",
    "# SET result='No result'\n",
    "# WHERE id=829813\n",
    "# ''').show(truncate=False)"
   ]
  },
  {
   "cell_type": "code",
   "execution_count": 40,
   "id": "57274427-0728-49c6-a5d7-02dffa5144e0",
   "metadata": {},
   "outputs": [
    {
     "name": "stdout",
     "output_type": "stream",
     "text": [
      "+----------------------------------------------------------------+------------+\n",
      "|venue                                                           |average_runs|\n",
      "+----------------------------------------------------------------+------------+\n",
      "|Himachal Pradesh Cricket Association Stadium, Dharamsala        |196.75      |\n",
      "|M Chinnaswamy Stadium, Bengaluru                                |191.57      |\n",
      "|Punjab Cricket Association IS Bindra Stadium, Mohali, Chandigarh|185.6       |\n",
      "|Eden Gardens, Kolkata                                           |185.06      |\n",
      "|Barsapara Cricket Stadium, Guwahati                             |182.5       |\n",
      "|Arun Jaitley Stadium, Delhi                                     |175.41      |\n",
      "|Brabourne Stadium                                               |174.05      |\n",
      "|Punjab Cricket Association IS Bindra Stadium                    |173.8       |\n",
      "|Wankhede Stadium, Mumbai                                        |171.55      |\n",
      "|Brabourne Stadium, Mumbai                                       |171.29      |\n",
      "|M.Chinnaswamy Stadium                                           |170.9       |\n",
      "|Narendra Modi Stadium, Ahmedabad                                |169.0       |\n",
      "|Rajiv Gandhi International Stadium, Uppal, Hyderabad            |167.86      |\n",
      "|Saurashtra Cricket Association Stadium                          |165.8       |\n",
      "|Dr DY Patil Sports Academy, Mumbai                              |164.33      |\n",
      "|Barabati Stadium                                                |162.71      |\n",
      "|Green Park                                                      |162.25      |\n",
      "|Arun Jaitley Stadium                                            |161.64      |\n",
      "|Punjab Cricket Association IS Bindra Stadium, Mohali            |161.14      |\n",
      "|Himachal Pradesh Cricket Association Stadium                    |160.94      |\n",
      "+----------------------------------------------------------------+------------+\n",
      "only showing top 20 rows\n",
      "\n"
     ]
    }
   ],
   "source": [
    "spark.sql('''\n",
    "\n",
    "''').show(truncate=False)"
   ]
  },
  {
   "cell_type": "code",
   "execution_count": 50,
   "id": "171af78a-16db-4062-b0d4-b41fdc6f0755",
   "metadata": {},
   "outputs": [
    {
     "name": "stdout",
     "output_type": "stream",
     "text": [
      "+-------+------+----------+----------+---------------------------+---------------------------+---------------------------+-------------+------+----------+---------------------------+-----------+--------------+---------------+---------------------------------------------------------------------+---------------------+--------------------+---------------------+\n",
      "|id     |season|city      |date      |team1                      |team2                      |toss_winner                |toss_decision|result|dl_applied|winner                     |win_by_runs|win_by_wickets|player_of_match|venue                                                                |umpire1              |umpire2             |umpire3              |\n",
      "+-------+------+----------+----------+---------------------------+---------------------------+---------------------------+-------------+------+----------+---------------------------+-----------+--------------+---------------+---------------------------------------------------------------------+---------------------+--------------------+---------------------+\n",
      "|1370353|2023  |Ahmedabad |2023/05/29|Gujarat Titans             |Chennai Super Kings        |Chennai Super Kings        |field        |D/L   |1         |Chennai Super Kings        |0          |5             |DP Conway      |Narendra Modi Stadium, Ahmedabad                                     |Nitin Menon          |RJ Tucker           |KN Ananthapadmanabhan|\n",
      "|1370352|2023  |Ahmedabad |2023/05/26|Gujarat Titans             |Mumbai Indians             |Mumbai Indians             |field        |normal|0         |Gujarat Titans             |62         |0             |Shubman Gill   |Narendra Modi Stadium, Ahmedabad                                     |Nitin Menon          |RJ Tucker           |J Madanagopal        |\n",
      "|1370351|2023  |Chennai   |2023/05/24|Mumbai Indians             |Lucknow Super Giants       |Mumbai Indians             |bat          |normal|0         |Mumbai Indians             |81         |0             |Akash Madhwal  |MA Chidambaram Stadium, Chepauk, Chennai                             |BNJ Oxenford         |VK Sharma           |CB Gaffaney          |\n",
      "|1370350|2023  |Chennai   |2023/05/23|Chennai Super Kings        |Gujarat Titans             |Gujarat Titans             |field        |normal|0         |Chennai Super Kings        |15         |0             |RD Gaikwad     |MA Chidambaram Stadium, Chepauk, Chennai                             |AK Chaudhary         |CB Gaffaney         |BNJ Oxenford         |\n",
      "|1359543|2023  |Mumbai    |2023/05/21|Sunrisers Hyderabad        |Mumbai Indians             |Mumbai Indians             |field        |normal|0         |Mumbai Indians             |0          |8             |C Green        |Wankhede Stadium, Mumbai                                             |KN Ananthapadmanabhan|RJ Tucker           |R Pandit             |\n",
      "|1359544|2023  |Bengaluru |2023/05/21|Royal Challengers Bangalore|Gujarat Titans             |Gujarat Titans             |field        |normal|0         |Gujarat Titans             |0          |6             |Shubman Gill   |M Chinnaswamy Stadium, Bengaluru                                     |Nitin Menon          |VK Sharma           |Tapan Sharma         |\n",
      "|1359542|2023  |Kolkata   |2023/05/20|Lucknow Super Giants       |Kolkata Knight Riders      |Kolkata Knight Riders      |field        |normal|0         |Lucknow Super Giants       |1          |0             |N Pooran       |Eden Gardens, Kolkata                                                |J Madanagopal        |UV Gandhe           |YC Barde             |\n",
      "|1359541|2023  |Delhi     |2023/05/20|Chennai Super Kings        |Delhi Capitals             |Chennai Super Kings        |bat          |normal|0         |Chennai Super Kings        |77         |0             |RD Gaikwad     |Arun Jaitley Stadium, Delhi                                          |CB Gaffaney          |NA Patwardhan       |AK Chaudhary         |\n",
      "|1359540|2023  |Dharamsala|2023/05/19|Punjab Kings               |Rajasthan Royals           |Rajasthan Royals           |field        |normal|0         |Rajasthan Royals           |0          |4             |D Padikkal     |Himachal Pradesh Cricket Association Stadium, Dharamsala             |A Nand Kishore       |RJ Tucker           |Navdeep Singh        |\n",
      "|1359539|2023  |Hyderabad |2023/05/18|Sunrisers Hyderabad        |Royal Challengers Bangalore|Royal Challengers Bangalore|field        |normal|0         |Royal Challengers Bangalore|0          |8             |V Kohli        |Rajiv Gandhi International Stadium, Uppal, Hyderabad                 |BNJ Oxenford         |VK Sharma           |HAS Khalid           |\n",
      "|1359538|2023  |Dharamsala|2023/05/17|Delhi Capitals             |Punjab Kings               |Punjab Kings               |field        |normal|0         |Delhi Capitals             |15         |0             |RR Rossouw     |Himachal Pradesh Cricket Association Stadium, Dharamsala             |KN Ananthapadmanabhan|MV Saidharshan Kumar|RJ Tucker            |\n",
      "|1359537|2023  |Lucknow   |2023/05/16|Lucknow Super Giants       |Mumbai Indians             |Mumbai Indians             |field        |normal|0         |Lucknow Super Giants       |5          |0             |MP Stoinis     |Bharat Ratna Shri Atal Bihari Vajpayee Ekana Cricket Stadium, Lucknow|AK Chaudhary         |A Nand Kishore      |CB Gaffaney          |\n",
      "|1359536|2023  |Ahmedabad |2023/05/15|Gujarat Titans             |Sunrisers Hyderabad        |Sunrisers Hyderabad        |field        |normal|0         |Gujarat Titans             |34         |0             |Shubman Gill   |Narendra Modi Stadium, Ahmedabad                                     |J Madanagopal        |UV Gandhe           |A Totre              |\n",
      "|1359534|2023  |Jaipur    |2023/05/14|Royal Challengers Bangalore|Rajasthan Royals           |Royal Challengers Bangalore|bat          |normal|0         |Royal Challengers Bangalore|112        |0             |WD Parnell     |Sawai Mansingh Stadium, Jaipur                                       |KN Ananthapadmanabhan|Navdeep Singh       |RJ Tucker            |\n",
      "|1359535|2023  |Chennai   |2023/05/14|Chennai Super Kings        |Kolkata Knight Riders      |Chennai Super Kings        |bat          |normal|0         |Kolkata Knight Riders      |0          |6             |RK Singh       |MA Chidambaram Stadium, Chepauk, Chennai                             |Tapan Sharma         |Vinod Seshan        |Nitin Menon          |\n",
      "|1359533|2023  |Delhi     |2023/05/13|Punjab Kings               |Delhi Capitals             |Delhi Capitals             |field        |normal|0         |Punjab Kings               |31         |0             |P Simran Singh |Arun Jaitley Stadium, Delhi                                          |CB Gaffaney          |NA Patwardhan       |GR Sadashiv Iyer     |\n",
      "|1359532|2023  |Hyderabad |2023/05/13|Sunrisers Hyderabad        |Lucknow Super Giants       |Sunrisers Hyderabad        |bat          |normal|0         |Lucknow Super Giants       |0          |7             |PN Mankad      |Rajiv Gandhi International Stadium, Uppal, Hyderabad                 |A Totre              |J Madanagopal       |YC Barde             |\n",
      "|1359531|2023  |Mumbai    |2023/05/12|Mumbai Indians             |Gujarat Titans             |Gujarat Titans             |field        |normal|0         |Mumbai Indians             |27         |0             |SA Yadav       |Wankhede Stadium, Mumbai                                             |Nitin Menon          |Tapan Sharma        |Vinod Seshan         |\n",
      "|1359530|2023  |Kolkata   |2023/05/11|Kolkata Knight Riders      |Rajasthan Royals           |Rajasthan Royals           |field        |normal|0         |Rajasthan Royals           |0          |9             |YBK Jaiswal    |Eden Gardens, Kolkata                                                |RJ Tucker            |MV Saidharshan Kumar|R Pandit             |\n",
      "|1359529|2023  |Chennai   |2023/05/10|Chennai Super Kings        |Delhi Capitals             |Chennai Super Kings        |bat          |normal|0         |Chennai Super Kings        |27         |0             |RA Jadeja      |MA Chidambaram Stadium, Chepauk, Chennai                             |CB Gaffaney          |NA Patwardhan       |AK Chaudhary         |\n",
      "+-------+------+----------+----------+---------------------------+---------------------------+---------------------------+-------------+------+----------+---------------------------+-----------+--------------+---------------+---------------------------------------------------------------------+---------------------+--------------------+---------------------+\n",
      "only showing top 20 rows\n",
      "\n"
     ]
    }
   ],
   "source": [
    "spark.sql('''\n",
    "SELECT *\n",
    "FROM matches\n",
    "ORDER BY season DESC\n",
    "1370353\n",
    "''').show(truncate=False)"
   ]
  },
  {
   "cell_type": "code",
   "execution_count": null,
   "id": "a1f131f3-20d2-4b77-b582-d12ae319733f",
   "metadata": {},
   "outputs": [],
   "source": []
  }
 ],
 "metadata": {
  "kernelspec": {
   "display_name": "Python 3 (ipykernel)",
   "language": "python",
   "name": "python3"
  },
  "language_info": {
   "codemirror_mode": {
    "name": "ipython",
    "version": 3
   },
   "file_extension": ".py",
   "mimetype": "text/x-python",
   "name": "python",
   "nbconvert_exporter": "python",
   "pygments_lexer": "ipython3",
   "version": "3.12.2"
  }
 },
 "nbformat": 4,
 "nbformat_minor": 5
}
